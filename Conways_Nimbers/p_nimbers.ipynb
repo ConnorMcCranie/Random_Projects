{
 "cells": [
  {
   "cell_type": "code",
   "execution_count": 85,
   "metadata": {},
   "outputs": [],
   "source": [
    "# Attempt to generalize Conway's nimbers to characteristic p>2\n",
    "'''\n",
    "At each stage, we identify p^(p^k) with a root of the polynomial x^p - x - p^(p^(k-1))\n",
    "This makes $\\\\mathbb{N}$ into a field isomorphic to the union of GF(p^(p^k)) over all k\n",
    "'''\n",
    "\n",
    "def deg(N : int, p : int = 2) -> int:\n",
    "    '''\n",
    "    Returns the largest D such that \n",
    "    p ** (p ** D) <= N\n",
    "    under the p_nimber multiplication, the ordinal p^(p^D)\n",
    "    is a field extension of Z/pZ of degree p^D\n",
    "    '''\n",
    "    D = 0\n",
    "    if N < p:\n",
    "        return 0\n",
    "    while N // (p ** (p ** D)) != 0 :\n",
    "        D += 1\n",
    "    return D-1\n",
    "\n",
    "def p_decomp(N : int, p : int = 2,  as_array = False, degree : int = -1) -> list:\n",
    "    '''\n",
    "    returns dict {'prime':p,'degree':degree,0:a_0,1:a_1,...,p-1:a_{p-1}} in the decomposition\n",
    "    N = sum_{k=0}^{p-1} a_k * p^(k*(p^L)) , \n",
    "    where D=deg(N,p) and each a_k < p^(p^L).\n",
    "    This is well-defined and unique by euclidean algorithm.\n",
    "    '''\n",
    "    if degree == -1:\n",
    "        degree = deg(N,p)\n",
    "    if p == 2:\n",
    "        power = 1 << (1 << degree)\n",
    "        decomp = {'prime':p,'degree':degree,0:N % power,1:N // power}\n",
    "        if as_array:\n",
    "            return [decomp[k] for k in range(p)] \n",
    "        return decomp\n",
    "    else:\n",
    "        power = p ** (p ** degree)\n",
    "        decomp = {'prime':p,'degree':degree,0:N % power}\n",
    "        for k in range(1,p):\n",
    "            N = N // power\n",
    "            decomp[k] = (N % power)\n",
    "        if as_array:\n",
    "            return [decomp[k] for k in range(p)]\n",
    "        return decomp\n",
    "    \n",
    "def p_combine(decomp : dict) -> int:\n",
    "    '''\n",
    "    the inverse of p_decomp\n",
    "    '''\n",
    "    p = decomp['prime']\n",
    "    degree = decomp['degree']\n",
    "    if p == 2:\n",
    "        return decomp[0] + (decomp[1] << (1 << degree))\n",
    "    else:\n",
    "        power = p ** (p ** degree)\n",
    "        N = decomp[0]\n",
    "        for k in range(1,p):\n",
    "            N += decomp[k] * power\n",
    "            power *= p ** (p ** degree)\n",
    "        return N"
   ]
  },
  {
   "cell_type": "code",
   "execution_count": null,
   "metadata": {},
   "outputs": [],
   "source": [
    "# sanity check\n",
    "p = 3\n",
    "N = 100\n",
    "k = 1256\n",
    "for n in range(N):\n",
    "    decomp = p_decomp(k*n,p,as_array=False)\n",
    "    decomp_array = p_decomp(k*n,p,as_array=True)\n",
    "    print(f'{k*n} = {decomp}\\n = {decomp_array}')\n",
    "    print(f'{k*n} = {p_combine(decomp)}')"
   ]
  },
  {
   "cell_type": "code",
   "execution_count": 88,
   "metadata": {},
   "outputs": [],
   "source": [
    "def int_log(N : int, base : int) -> int:\n",
    "    if N < base:\n",
    "        return 0\n",
    "    # for the highest power 'exp' s.t. base^exp <= N, find\n",
    "    # the largest power of 2 that is less than or equal to exp\n",
    "    total = 1 << deg(N, base)\n",
    "    # now divide N to recursively find the binary expansion of exp\n",
    "    N = N // (base ** total)\n",
    "    while N != 0:\n",
    "        total += 1 << deg(N, base)\n",
    "        N = N // (base ** (1 << deg(N, base)))\n",
    "    return total - 1\n",
    "\n",
    "def nim_sum(N : int, M: int, p : int = 2) -> int:\n",
    "    '''\n",
    "    Returns the p-nimber sum of N and M\n",
    "    '''\n",
    "    # trivial cases\n",
    "    if N == 0:\n",
    "        return M\n",
    "    elif M == 0:\n",
    "        return N\n",
    "    # if p = 2, then the sum is just the bitwise xor\n",
    "    if p == 2:\n",
    "        return N ^ M\n",
    "    # otherwise, we do sum modulo p in each \"p-bit\" \n",
    "    if N < p and M < p:\n",
    "        return (N + M) % p\n",
    "    else:\n",
    "        return ((N + M) % p) + p * nim_sum(N//p, M//p,p)"
   ]
  },
  {
   "cell_type": "code",
   "execution_count": 84,
   "metadata": {},
   "outputs": [
    {
     "data": {
      "text/plain": [
       "[0, 0, 0, 0, 625]"
      ]
     },
     "execution_count": 84,
     "metadata": {},
     "output_type": "execute_result"
    }
   ],
   "source": [
    "# special case of pi(D):=p**(p**D - 1) is easier to multiply\n",
    "# because its decomp is [0,0,0,...,0,pi(D-1)]\n",
    "# \n",
    "def pi(degree : int, p : int = 2) -> int:\n",
    "    if degree == 0:\n",
    "        return 1\n",
    "    return p ** (p ** degree - 1)\n",
    "\n"
   ]
  },
  {
   "cell_type": "code",
   "execution_count": 90,
   "metadata": {},
   "outputs": [],
   "source": [
    "# encode p_nimber multiplication recursively via matrices\n",
    "import numpy as np\n",
    "\n",
    "def pi_mult(N: int, D : int, p : int = 2) -> int:\n",
    "    '''returns p**(p**D - 1) * N   w.r.t p-nimber multiplication'''\n",
    "    if D == 0:\n",
    "        return N\n",
    "    decomp_N = p_decomp(N,p,as_array=True,degree = D-1)\n",
    "    decomp_product = {'prime':p,'degree':D-1}\n",
    "    for k in range(p):\n",
    "        decomp_product[k] = 0\n",
    "    for k in range(p):\n",
    "        for j in range(p):\n",
    "            term1 = int((k == p-1) and (j == 0)) * pi_mult(decomp_N[j],D-1,p)\n",
    "            term2 = int((k > 0) and (j == k)) * pi_mult(decomp_N[j],D-1,p)\n",
    "            term3 = int(j == k+1) * pi_mult(pi_mult(decomp_N[j],D-1,p),D-1,p)\n",
    "            sum = nim_sum(term3, nim_sum(term1,term2,p), p)\n",
    "            decomp_product[k] =  nim_sum(decomp_product[k], sum, p)\n",
    "    return p_combine(decomp_product)\n",
    "    "
   ]
  },
  {
   "cell_type": "code",
   "execution_count": 92,
   "metadata": {},
   "outputs": [
    {
     "data": {
      "text/plain": [
       "3"
      ]
     },
     "execution_count": 92,
     "metadata": {},
     "output_type": "execute_result"
    }
   ],
   "source": [
    "pi_mult(2,1,2)"
   ]
  },
  {
   "cell_type": "code",
   "execution_count": null,
   "metadata": {},
   "outputs": [],
   "source": []
  }
 ],
 "metadata": {
  "kernelspec": {
   "display_name": "Python 3",
   "language": "python",
   "name": "python3"
  },
  "language_info": {
   "codemirror_mode": {
    "name": "ipython",
    "version": 3
   },
   "file_extension": ".py",
   "mimetype": "text/x-python",
   "name": "python",
   "nbconvert_exporter": "python",
   "pygments_lexer": "ipython3",
   "version": "3.12.4"
  }
 },
 "nbformat": 4,
 "nbformat_minor": 2
}
