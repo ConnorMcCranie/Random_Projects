{
 "cells": [
  {
   "cell_type": "code",
   "execution_count": 3,
   "metadata": {},
   "outputs": [
    {
     "data": {
      "text/plain": [
       "10715086071862673209484250490600018105614048117055336074437503883703510511249361224931983788156958581275946729175531468251871452856923140435984577574698574803934567774824230985421074605062371141877954182153046474983581941267398767559165543946077062914571196477686542167660429831652624386837205668069376"
      ]
     },
     "execution_count": 3,
     "metadata": {},
     "output_type": "execute_result"
    }
   ],
   "source": []
  },
  {
   "cell_type": "code",
   "execution_count": 5,
   "metadata": {},
   "outputs": [],
   "source": [
    "\n",
    "def is_power_of_two(n : int) -> bool:\n",
    "    if n == 0:\n",
    "        return False\n",
    "    return (n & (n - 1)) == 0\n",
    "\n",
    "def is_fermat_power(n : int) -> bool:\n",
    "    if n < 4_000_000_000:\n",
    "        return (n == 2) | (n == 4) | (n == 16) | (n == 256) | (n == 65536)\n",
    "    elif not is_power_of_two(n):\n",
    "        return False\n",
    "    else:\n",
    "        return is_power_of_two(n.bit_length() - 1)\n",
    "\n",
    "def nim_sum(n : int,m : int) -> int:\n",
    "    return n ^ m\n",
    "\n",
    "def least_fermat(N : int) -> int:\n",
    "    '''\n",
    "    Find the least Fermat power <= N \n",
    "    2 ** (2 ** n) <= N\n",
    "    '''\n",
    "    if N < 2:\n",
    "        raise ValueError('The lowest Fermat power is 2')\n",
    "    bit_log = N.bit_length() - 1\n",
    "    bit_log_log = bit_log.bit_length()-1\n",
    "    return 1 << (1 << bit_log_log)\n",
    "\n",
    "def nim_product(a : int, b : int) -> int:\n",
    "    # first handle trivial cases\n",
    "    if a == 0 or b == 0:\n",
    "        return 0\n",
    "    elif a == 1:\n",
    "        return b\n",
    "    elif b == 1:\n",
    "        return a\n",
    "    elif a == 2 and b == 2:\n",
    "        return 3\n",
    "    else:\n",
    "        # do euclidean division by greatest possible fermat power \n",
    "        # a = q_a * F_a + r_a and b = q_b * F_b + r_b\n",
    "        F_a = least_fermat(a); F_b = least_fermat(b)\n",
    "        q_a = a // F_a ; q_b = b // F_b\n",
    "        r_a = a % F_a ; r_b = b % F_b\n",
    "\n",
    "        # if one the Fermat powers is greater than the other, then\n",
    "        # nim multiplication by it is the same as ordinary multiplication\n",
    "        if F_a < F_b:\n",
    "            return nim_product(a,q_b)*F_b ^ nim_product(a,r_b)\n",
    "        elif F_a > F_b:\n",
    "            return nim_product(q_a,b)*F_a ^ nim_product(r_a,b)\n",
    "        else:\n",
    "            # otherwise we have to distribute and use F_n ** 2 = 3 * F_n / 2\n",
    "            p_1 = nim_product(q_a,q_b)\n",
    "            p_2 = nim_product(r_a,r_b)\n",
    "            p_3 = nim_product(q_a ^ r_a, q_b ^ r_b)\n",
    "            p_4 = nim_product(p_1, F_a >> 1)\n",
    "            p_5 = p_3 ^ p_2\n",
    "            return p_5 * F_a ^ p_2 ^ p_4\n",
    "\n",
    "def nim_power(x : int,n : int) -> int:\n",
    "    if n == 0:\n",
    "        return 1\n",
    "    elif n == 1:\n",
    "        return x\n",
    "    elif x == 0:\n",
    "        return 0\n",
    "    elif x == 1:\n",
    "        return 1\n",
    "    else:\n",
    "        i = 1\n",
    "        prod = x\n",
    "        while i < n:\n",
    "            prod = nim_product(prod,x)\n",
    "            i += 1\n",
    "        return prod\n",
    "\n",
    "def fermat_divisors(n : int, include_one : bool = False ) -> list:\n",
    "    '''\n",
    "    Find the divisors of a Mersenne number 2 ** (2 ** n) - 1\n",
    "    By default does not include 1\n",
    "    '''\n",
    "    # for now, this only works for n < 6\n",
    "    # could potentiall go up to n = 11 using known factors on wikipedia \n",
    "    # no one knows the factors of 2 ** (2 ** 11) + 1\n",
    "    if n >= 6:\n",
    "        raise ValueError('This function only works for n < 6')\n",
    "    else:\n",
    "        divisors = []\n",
    "        for i in range(0 + int(not include_one),2 ** n):\n",
    "            product = 1\n",
    "            for j in range(n):\n",
    "                if i >> j & 1:\n",
    "                    product *= 2 ** (2 ** j) + 1\n",
    "            divisors.append(product)\n",
    "        return divisors\n",
    "       \n",
    "\n",
    "def nim_order(n : int) -> int:\n",
    "    if n == 0:\n",
    "        return 0\n",
    "    elif n == 1:\n",
    "        return 1\n",
    "    elif n == 2:\n",
    "        return 3\n",
    "    elif n == 3:\n",
    "        return 3\n",
    "    elif n < 1 << (1 << 5):\n",
    "        # make more efficient by only checking possible orders\n",
    "        # use Lagrange's theorem\n",
    "        # find the smallest field containing n i.e. smallest F_k > n\n",
    "        exp = (n.bit_length() - 1).bit_length()\n",
    "        # find the order of n must divide F_k - 1 which factors by difference of squares\n",
    "        divisors = fermat_divisors(exp)\n",
    "        for factor in divisors[:-1]:\n",
    "            if nim_power(n,factor) == 1:\n",
    "                return factor\n",
    "        else:\n",
    "            return divisors[-1] \n",
    "    else:\n",
    "        for factor in fermat_divisors(5):\n",
    "            if nim_power(n,factor) == 1:\n",
    "                return factor\n",
    "            # brute force: will probably loop forever\n",
    "            i = 1 << (1 << 5)\n",
    "            while True:\n",
    "                if nim_power(n,i) == 1:\n",
    "                    return i\n",
    "                i += 1\n",
    "                \n",
    "def nim_inverse(n : int) -> int:\n",
    "    if n == 0:\n",
    "        raise ValueError('Cannot invert 0')\n",
    "    elif n == 1:\n",
    "        return 1\n",
    "    else:\n",
    "        max_order = (1<<(1 << (n.bit_length() - 1).bit_length()))-1\n",
    "        return nim_power(n,max_order - 1)\n",
    "\n",
    "def nim_log(base : int, n : int) -> int:\n",
    "    '''\n",
    "    Find the discrete logarithm of n w.r.t. nim multiplication\n",
    "    This solves the equation base ** x = n\n",
    "    '''\n",
    "    if base == 0:\n",
    "        raise ValueError('Cannot take the logarithm with base 0')\n",
    "    elif base == 1:\n",
    "        if n == 1:\n",
    "            return 0\n",
    "        else:\n",
    "            raise ValueError('Cannot take the logarithm with base 1')\n",
    "    elif n == 0:\n",
    "        raise ValueError('Cannot take the logarithm of 0')\n",
    "    elif n == 1:\n",
    "        return 0\n",
    "    else:\n",
    "        max_order = (1<<(1 << (base.bit_length() - 1).bit_length()))-1\n",
    "        i = 1\n",
    "        while i < max_order:\n",
    "            if nim_power(base,i) == n:\n",
    "                return i\n",
    "            i += 1\n",
    "        else:\n",
    "            raise ValueError('No logarithm found')\n"
   ]
  },
  {
   "cell_type": "code",
   "execution_count": 169,
   "metadata": {},
   "outputs": [
    {
     "data": {
      "text/plain": [
       "1"
      ]
     },
     "execution_count": 169,
     "metadata": {},
     "output_type": "execute_result"
    }
   ],
   "source": [
    "def nim_poly"
   ]
  },
  {
   "cell_type": "code",
   "execution_count": 176,
   "metadata": {},
   "outputs": [
    {
     "data": {
      "text/plain": [
       "60928"
      ]
     },
     "execution_count": 176,
     "metadata": {},
     "output_type": "execute_result"
    }
   ],
   "source": [
    "nim_inverse(2**8 + 1)"
   ]
  },
  {
   "cell_type": "code",
   "execution_count": null,
   "metadata": {},
   "outputs": [],
   "source": [
    "for i in range(256):\n",
    "    least_exp = (i.bit_length() - 1).bit_length()\n",
    "    if nim_order(i) == (1 << (1 << least_exp))-1:\n",
    "        print(f'{i} is a generator of GF(2^(2^{least_exp})) and {i} in binary is {i:04b}')"
   ]
  },
  {
   "cell_type": "code",
   "execution_count": 244,
   "metadata": {},
   "outputs": [
    {
     "data": {
      "text/plain": [
       "(1,\n",
       " [(Poly(x**8 + x**6 + x**5 + x**3 + 1, x, modulus=2), 1),\n",
       "  (Poly(x**8 + x**6 + x**5 + x**4 + x**3 + x + 1, x, modulus=2), 1)])"
      ]
     },
     "execution_count": 244,
     "metadata": {},
     "output_type": "execute_result"
    }
   ],
   "source": [
    "from sympy import GF\n",
    "from sympy import poly, factor , factor_list\n",
    "from sympy.abc import x\n",
    "F = GF(2)\n",
    "p = poly(x**16 + x + 1,x,domain = F)\n",
    "factor_list(p)"
   ]
  },
  {
   "cell_type": "code",
   "execution_count": 11,
   "metadata": {},
   "outputs": [
    {
     "name": "stdout",
     "output_type": "stream",
     "text": [
      "59.9 ns ± 2.23 ns per loop (mean ± std. dev. of 7 runs, 10,000,000 loops each)\n"
     ]
    }
   ],
   "source": []
  },
  {
   "cell_type": "code",
   "execution_count": 123,
   "metadata": {},
   "outputs": [],
   "source": []
  },
  {
   "cell_type": "code",
   "execution_count": 126,
   "metadata": {},
   "outputs": [],
   "source": [
    "# let's just keep the exponent in base 2 for simplicity\n",
    "\n",
    "def level(N : int, p : int = 2) -> int:\n",
    "    '''\n",
    "    Returns the largest 'level' L (w.r.t. p) such that \n",
    "    p ** (2 ** L) <= N\n",
    "    '''\n",
    "    L = 0\n",
    "    if N < p:\n",
    "        return 0\n",
    "    while N // (p ** (1 << L)) != 0 :\n",
    "        L += 1\n",
    "    return L-1\n",
    "\n",
    "def high_part(N : int, p : int = 2) -> int:\n",
    "    '''\n",
    "    \n",
    "    '''\n",
    "    return N // (p ** (1 << level(N,p)))\n",
    "\n",
    "def low_part(N : int, p : int = 2) -> int:\n",
    "    '''\n",
    "    Returns the 'low part' of N w.r.t. p\n",
    "    \n",
    "    '''\n",
    "    return N % (p ** (1 << level(N,p)))\n",
    "\n",
    "\n",
    "\n",
    "def int_log(N : int, base : int) -> int:\n",
    "    if N < base:\n",
    "        return 0\n",
    "    # for the highest power 'exp' s.t. base^exp <= N, find\n",
    "    # the largest power of 2 that is less than or equal to exp\n",
    "    total = 1 << level(N, base)\n",
    "    # now divide N to recursively find the binary expansion of exp\n",
    "    N = N // (base ** total)\n",
    "    while N != 0:\n",
    "        total += 1 << level(N, base)\n",
    "        N = N // (base ** (1 << level(N, base)))\n",
    "    return total - 1"
   ]
  },
  {
   "cell_type": "code",
   "execution_count": 128,
   "metadata": {},
   "outputs": [
    {
     "name": "stdout",
     "output_type": "stream",
     "text": [
      "392 µs ± 7.55 µs per loop (mean ± std. dev. of 7 runs, 1,000 loops each)\n"
     ]
    }
   ],
   "source": [
    "%timeit int_log(2**10000+12345345,3)\n"
   ]
  },
  {
   "cell_type": "code",
   "execution_count": 125,
   "metadata": {},
   "outputs": [],
   "source": [
    "\n",
    "# maybe attempt to generalize the exponent to base b\n",
    "def level_general(N : int , p : int = 2 , b : int = 2) -> list:\n",
    "    '''\n",
    "    Find the largest number x of the form x = p ** (a * b ** n) \n",
    "    such that a < b and A <= N and return [a,n]\n",
    "    ## The idea is that the bottom part is written in base p,\n",
    "    while the numbers in the expoenet are written in base b\n",
    "    The number p ** ((b-1) * b ** n) plays the same role as\n",
    "    F_n  = 2 ** (2 ** n) in the binary case ##\n",
    "    '''\n",
    "    exp = int_log(N,p)\n",
    "    super_exp = int_log(exp,b)\n",
    "    a = 1\n",
    "    while p ** (a * b ** super_exp) < N:\n",
    "        if p ** ((a+1) * b ** super_exp) > N:\n",
    "            return [a,super_exp]\n",
    "        elif p ** ((a+1) * b ** super_exp) == N:\n",
    "            return [a+1,super_exp]\n",
    "        else:\n",
    "            a += 1\n"
   ]
  },
  {
   "cell_type": "code",
   "execution_count": null,
   "metadata": {},
   "outputs": [],
   "source": []
  }
 ],
 "metadata": {
  "kernelspec": {
   "display_name": "Python 3",
   "language": "python",
   "name": "python3"
  },
  "language_info": {
   "codemirror_mode": {
    "name": "ipython",
    "version": 3
   },
   "file_extension": ".py",
   "mimetype": "text/x-python",
   "name": "python",
   "nbconvert_exporter": "python",
   "pygments_lexer": "ipython3",
   "version": "3.12.5"
  }
 },
 "nbformat": 4,
 "nbformat_minor": 2
}
