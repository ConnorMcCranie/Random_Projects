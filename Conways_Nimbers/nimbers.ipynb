{
 "cells": [
  {
   "cell_type": "code",
   "execution_count": 3,
   "metadata": {},
   "outputs": [],
   "source": []
  },
  {
   "cell_type": "code",
   "execution_count": 195,
   "metadata": {},
   "outputs": [],
   "source": [
    "\n",
    "def is_power_of_two(n : int) -> bool:\n",
    "    if n == 0:\n",
    "        return False\n",
    "    return (n & (n - 1)) == 0\n",
    "\n",
    "def is_fermat_power(n : int) -> bool:\n",
    "    if n < 4_000_000_000:\n",
    "        return (n == 2) | (n == 4) | (n == 16) | (n == 256) | (n == 65536)\n",
    "    elif not is_power_of_two(n):\n",
    "        return False\n",
    "    else:\n",
    "        return is_power_of_two(n.bit_length() - 1)\n",
    "\n",
    "def nim_sum(n : int,m : int) -> int:\n",
    "    return n ^ m\n",
    "\n",
    "def least_fermat(N : int) -> int:\n",
    "    '''\n",
    "    Find the least Fermat power <= N \n",
    "    2 ** (2 ** n) <= N\n",
    "    '''\n",
    "    if N < 2:\n",
    "        raise ValueError('The lowest Fermat power is 2')\n",
    "    bit_log = N.bit_length() - 1\n",
    "    bit_log_log = bit_log.bit_length()-1\n",
    "    return 1 << (1 << bit_log_log)\n",
    "\n",
    "def nim_product(a : int, b : int) -> int:\n",
    "    # first handle trivial cases\n",
    "    if a == 0 or b == 0:\n",
    "        return 0\n",
    "    elif a == 1:\n",
    "        return b\n",
    "    elif b == 1:\n",
    "        return a\n",
    "    elif a == 2 and b == 2:\n",
    "        return 3\n",
    "    else:\n",
    "        # do euclidean division by greatest possible fermat power \n",
    "        # a = q_a * F_a + r_a and b = q_b * F_b + r_b\n",
    "        F_a = least_fermat(a); F_b = least_fermat(b)\n",
    "        q_a = a // F_a ; q_b = b // F_b\n",
    "        r_a = a % F_a ; r_b = b % F_b\n",
    "\n",
    "        # if one the Fermat powers is greater than the other, then\n",
    "        # nim multiplication by it is the same as ordinary multiplication\n",
    "        if F_a < F_b:\n",
    "            return nim_product(a,q_b)*F_b ^ nim_product(a,r_b)\n",
    "        elif F_a > F_b:\n",
    "            return nim_product(q_a,b)*F_a ^ nim_product(r_a,b)\n",
    "        else:\n",
    "            # otherwise we have to distribute and use F_n ** 2 = 3 * F_n / 2\n",
    "            p_1 = nim_product(q_a,q_b)\n",
    "            p_2 = nim_product(r_a,r_b)\n",
    "            p_3 = nim_product(q_a ^ r_a, q_b ^ r_b)\n",
    "            p_4 = nim_product(p_1, F_a >> 1)\n",
    "            p_5 = p_3 ^ p_2\n",
    "            return p_5 * F_a ^ p_2 ^ p_4\n",
    "\n",
    "def nim_power(x : int,n : int) -> int:\n",
    "    if n == 0:\n",
    "        return 1\n",
    "    elif n == 1:\n",
    "        return x\n",
    "    elif x == 0:\n",
    "        return 0\n",
    "    elif x == 1:\n",
    "        return 1\n",
    "    else:\n",
    "        i = 1\n",
    "        prod = x\n",
    "        while i < n:\n",
    "            prod = nim_product(prod,x)\n",
    "            i += 1\n",
    "        return prod\n",
    "\n",
    "def fermat_divisors(n : int, include_one : bool = False ) -> list:\n",
    "    '''\n",
    "    Find the divisors of a Mersenne number 2 ** (2 ** n) - 1\n",
    "    By default does not include 1\n",
    "    '''\n",
    "    # for now, this only works for n < 6\n",
    "    # could potentiall go up to n = 11 using known factors on wikipedia \n",
    "    # no one knows the factors of 2 ** (2 ** 11) + 1\n",
    "    if n >= 6:\n",
    "        raise ValueError('This function only works for n < 6')\n",
    "    else:\n",
    "        divisors = []\n",
    "        for i in range(0 + int(not include_one),2 ** n):\n",
    "            product = 1\n",
    "            for j in range(n):\n",
    "                if i >> j & 1:\n",
    "                    product *= 2 ** (2 ** j) + 1\n",
    "            divisors.append(product)\n",
    "        return divisors\n",
    "       \n",
    "\n",
    "def nim_order(n : int) -> int:\n",
    "    if n == 0:\n",
    "        return 0\n",
    "    elif n == 1:\n",
    "        return 1\n",
    "    elif n == 2:\n",
    "        return 3\n",
    "    elif n == 3:\n",
    "        return 3\n",
    "    elif n < 1 << (1 << 5):\n",
    "        # make more efficient by only checking possible orders\n",
    "        # use Lagrange's theorem\n",
    "        # find the smallest field containing n i.e. smallest F_k > n\n",
    "        exp = (n.bit_length() - 1).bit_length()\n",
    "        # find the order of n must divide F_k - 1 which factors by difference of squares\n",
    "        divisors = fermat_divisors(exp)\n",
    "        for factor in divisors[:-1]:\n",
    "            if nim_power(n,factor) == 1:\n",
    "                return factor\n",
    "        else:\n",
    "            return divisors[-1] \n",
    "    else:\n",
    "        for factor in fermat_divisors(5):\n",
    "            if nim_power(n,factor) == 1:\n",
    "                return factor\n",
    "            # brute force: will probably loop forever\n",
    "            i = 1 << (1 << 5)\n",
    "            while True:\n",
    "                if nim_power(n,i) == 1:\n",
    "                    return i\n",
    "                i += 1\n",
    "                \n",
    "def nim_inverse(n : int) -> int:\n",
    "    if n == 0:\n",
    "        raise ValueError('Cannot invert 0')\n",
    "    elif n == 1:\n",
    "        return 1\n",
    "    else:\n",
    "        max_order = (1<<(1 << (n.bit_length() - 1).bit_length()))-1\n",
    "        return nim_power(n,max_order - 1)\n",
    "\n",
    "def nim_log(base : int, n : int) -> int:\n",
    "    '''\n",
    "    Find the discrete logarithm of n w.r.t. nim multiplication\n",
    "    This solves the equation base ** x = n\n",
    "    '''\n",
    "    if base == 0:\n",
    "        raise ValueError('Cannot take the logarithm with base 0')\n",
    "    elif base == 1:\n",
    "        if n == 1:\n",
    "            return 0\n",
    "        else:\n",
    "            raise ValueError('Cannot take the logarithm with base 1')\n",
    "    elif n == 0:\n",
    "        raise ValueError('Cannot take the logarithm of 0')\n",
    "    elif n == 1:\n",
    "        return 0\n",
    "    else:\n",
    "        max_order = (1<<(1 << (base.bit_length() - 1).bit_length()))-1\n",
    "        i = 1\n",
    "        while i < max_order:\n",
    "            if nim_power(base,i) == n:\n",
    "                return i\n",
    "            i += 1\n",
    "        else:\n",
    "            raise ValueError('No logarithm found')\n"
   ]
  },
  {
   "cell_type": "code",
   "execution_count": 169,
   "metadata": {},
   "outputs": [
    {
     "data": {
      "text/plain": [
       "1"
      ]
     },
     "execution_count": 169,
     "metadata": {},
     "output_type": "execute_result"
    }
   ],
   "source": [
    "def nim_poly"
   ]
  },
  {
   "cell_type": "code",
   "execution_count": 176,
   "metadata": {},
   "outputs": [
    {
     "data": {
      "text/plain": [
       "60928"
      ]
     },
     "execution_count": 176,
     "metadata": {},
     "output_type": "execute_result"
    }
   ],
   "source": [
    "nim_inverse(2**8 + 1)"
   ]
  },
  {
   "cell_type": "code",
   "execution_count": null,
   "metadata": {},
   "outputs": [],
   "source": [
    "for i in range(256):\n",
    "    least_exp = (i.bit_length() - 1).bit_length()\n",
    "    if nim_order(i) == (1 << (1 << least_exp))-1:\n",
    "        print(f'{i} is a generator of GF(2^(2^{least_exp})) and {i} in binary is {i:04b}')"
   ]
  },
  {
   "cell_type": "code",
   "execution_count": 244,
   "metadata": {},
   "outputs": [
    {
     "data": {
      "text/plain": [
       "(1,\n",
       " [(Poly(x**8 + x**6 + x**5 + x**3 + 1, x, modulus=2), 1),\n",
       "  (Poly(x**8 + x**6 + x**5 + x**4 + x**3 + x + 1, x, modulus=2), 1)])"
      ]
     },
     "execution_count": 244,
     "metadata": {},
     "output_type": "execute_result"
    }
   ],
   "source": [
    "from sympy import GF\n",
    "from sympy import poly, factor , factor_list\n",
    "from sympy.abc import x\n",
    "F = GF(2)\n",
    "p = poly(x**16 + x + 1,x,domain = F)\n",
    "factor_list(p)"
   ]
  },
  {
   "cell_type": "code",
   "execution_count": 239,
   "metadata": {},
   "outputs": [
    {
     "data": {
      "text/plain": [
       "177"
      ]
     },
     "execution_count": 239,
     "metadata": {},
     "output_type": "execute_result"
    }
   ],
   "source": [
    "nim_log(18,16)"
   ]
  },
  {
   "cell_type": "code",
   "execution_count": 213,
   "metadata": {},
   "outputs": [
    {
     "name": "stdout",
     "output_type": "stream",
     "text": [
      "The least generator of GF(2^(2^1)) is 2\n",
      "The least generator of GF(2^(2^2)) is 4\n",
      "The least generator of GF(2^(2^3)) is 18\n",
      "The least generator of GF(2^(2^4)) is 258\n"
     ]
    },
    {
     "ename": "KeyboardInterrupt",
     "evalue": "",
     "output_type": "error",
     "traceback": [
      "\u001b[1;31m---------------------------------------------------------------------------\u001b[0m",
      "\u001b[1;31mKeyboardInterrupt\u001b[0m                         Traceback (most recent call last)",
      "Cell \u001b[1;32mIn[213], line 3\u001b[0m\n\u001b[0;32m      1\u001b[0m candidate \u001b[38;5;241m=\u001b[39m \u001b[38;5;241m2\u001b[39m\n\u001b[0;32m      2\u001b[0m \u001b[38;5;28;01mfor\u001b[39;00m i \u001b[38;5;129;01min\u001b[39;00m \u001b[38;5;28mrange\u001b[39m(\u001b[38;5;241m1\u001b[39m,\u001b[38;5;241m6\u001b[39m):\n\u001b[1;32m----> 3\u001b[0m     \u001b[38;5;28;01mwhile\u001b[39;00m \u001b[43mnim_order\u001b[49m\u001b[43m(\u001b[49m\u001b[43mcandidate\u001b[49m\u001b[43m)\u001b[49m \u001b[38;5;241m<\u001b[39m\u001b[38;5;241m=\u001b[39m (\u001b[38;5;241m1\u001b[39m \u001b[38;5;241m<<\u001b[39m (\u001b[38;5;241m1\u001b[39m \u001b[38;5;241m<<\u001b[39m i))\u001b[38;5;241m-\u001b[39m\u001b[38;5;241m1\u001b[39m:\n\u001b[0;32m      4\u001b[0m             \u001b[38;5;28;01mif\u001b[39;00m nim_order(candidate) \u001b[38;5;241m==\u001b[39m (\u001b[38;5;241m1\u001b[39m \u001b[38;5;241m<<\u001b[39m (\u001b[38;5;241m1\u001b[39m \u001b[38;5;241m<<\u001b[39m i))\u001b[38;5;241m-\u001b[39m\u001b[38;5;241m1\u001b[39m:\n\u001b[0;32m      5\u001b[0m                 \u001b[38;5;28mprint\u001b[39m(\u001b[38;5;124mf\u001b[39m\u001b[38;5;124m'\u001b[39m\u001b[38;5;124mThe least generator of GF(2^(2^\u001b[39m\u001b[38;5;132;01m{\u001b[39;00mi\u001b[38;5;132;01m}\u001b[39;00m\u001b[38;5;124m)) is \u001b[39m\u001b[38;5;132;01m{\u001b[39;00mcandidate\u001b[38;5;132;01m}\u001b[39;00m\u001b[38;5;124m'\u001b[39m)\n",
      "Cell \u001b[1;32mIn[195], line 115\u001b[0m, in \u001b[0;36mnim_order\u001b[1;34m(n)\u001b[0m\n\u001b[0;32m    113\u001b[0m divisors \u001b[38;5;241m=\u001b[39m fermat_divisors(exp)\n\u001b[0;32m    114\u001b[0m \u001b[38;5;28;01mfor\u001b[39;00m factor \u001b[38;5;129;01min\u001b[39;00m divisors[:\u001b[38;5;241m-\u001b[39m\u001b[38;5;241m1\u001b[39m]:\n\u001b[1;32m--> 115\u001b[0m     \u001b[38;5;28;01mif\u001b[39;00m \u001b[43mnim_power\u001b[49m\u001b[43m(\u001b[49m\u001b[43mn\u001b[49m\u001b[43m,\u001b[49m\u001b[43mfactor\u001b[49m\u001b[43m)\u001b[49m \u001b[38;5;241m==\u001b[39m \u001b[38;5;241m1\u001b[39m:\n\u001b[0;32m    116\u001b[0m         \u001b[38;5;28;01mreturn\u001b[39;00m factor\n\u001b[0;32m    117\u001b[0m \u001b[38;5;28;01melse\u001b[39;00m:\n",
      "Cell \u001b[1;32mIn[195], line 73\u001b[0m, in \u001b[0;36mnim_power\u001b[1;34m(x, n)\u001b[0m\n\u001b[0;32m     71\u001b[0m prod \u001b[38;5;241m=\u001b[39m x\n\u001b[0;32m     72\u001b[0m \u001b[38;5;28;01mwhile\u001b[39;00m i \u001b[38;5;241m<\u001b[39m n:\n\u001b[1;32m---> 73\u001b[0m     prod \u001b[38;5;241m=\u001b[39m \u001b[43mnim_product\u001b[49m\u001b[43m(\u001b[49m\u001b[43mprod\u001b[49m\u001b[43m,\u001b[49m\u001b[43mx\u001b[49m\u001b[43m)\u001b[49m\n\u001b[0;32m     74\u001b[0m     i \u001b[38;5;241m+\u001b[39m\u001b[38;5;241m=\u001b[39m \u001b[38;5;241m1\u001b[39m\n\u001b[0;32m     75\u001b[0m \u001b[38;5;28;01mreturn\u001b[39;00m prod\n",
      "Cell \u001b[1;32mIn[195], line 56\u001b[0m, in \u001b[0;36mnim_product\u001b[1;34m(a, b)\u001b[0m\n\u001b[0;32m     54\u001b[0m p_2 \u001b[38;5;241m=\u001b[39m nim_product(r_a,r_b)\n\u001b[0;32m     55\u001b[0m p_3 \u001b[38;5;241m=\u001b[39m nim_product(q_a \u001b[38;5;241m^\u001b[39m r_a, q_b \u001b[38;5;241m^\u001b[39m r_b)\n\u001b[1;32m---> 56\u001b[0m p_4 \u001b[38;5;241m=\u001b[39m \u001b[43mnim_product\u001b[49m\u001b[43m(\u001b[49m\u001b[43mp_1\u001b[49m\u001b[43m,\u001b[49m\u001b[43m \u001b[49m\u001b[43mF_a\u001b[49m\u001b[43m \u001b[49m\u001b[38;5;241;43m>>\u001b[39;49m\u001b[43m \u001b[49m\u001b[38;5;241;43m1\u001b[39;49m\u001b[43m)\u001b[49m\n\u001b[0;32m     57\u001b[0m p_5 \u001b[38;5;241m=\u001b[39m p_3 \u001b[38;5;241m^\u001b[39m p_2\n\u001b[0;32m     58\u001b[0m \u001b[38;5;28;01mreturn\u001b[39;00m p_5 \u001b[38;5;241m*\u001b[39m F_a \u001b[38;5;241m^\u001b[39m p_2 \u001b[38;5;241m^\u001b[39m p_4\n",
      "Cell \u001b[1;32mIn[195], line 55\u001b[0m, in \u001b[0;36mnim_product\u001b[1;34m(a, b)\u001b[0m\n\u001b[0;32m     53\u001b[0m p_1 \u001b[38;5;241m=\u001b[39m nim_product(q_a,q_b)\n\u001b[0;32m     54\u001b[0m p_2 \u001b[38;5;241m=\u001b[39m nim_product(r_a,r_b)\n\u001b[1;32m---> 55\u001b[0m p_3 \u001b[38;5;241m=\u001b[39m \u001b[43mnim_product\u001b[49m\u001b[43m(\u001b[49m\u001b[43mq_a\u001b[49m\u001b[43m \u001b[49m\u001b[38;5;241;43m^\u001b[39;49m\u001b[43m \u001b[49m\u001b[43mr_a\u001b[49m\u001b[43m,\u001b[49m\u001b[43m \u001b[49m\u001b[43mq_b\u001b[49m\u001b[43m \u001b[49m\u001b[38;5;241;43m^\u001b[39;49m\u001b[43m \u001b[49m\u001b[43mr_b\u001b[49m\u001b[43m)\u001b[49m\n\u001b[0;32m     56\u001b[0m p_4 \u001b[38;5;241m=\u001b[39m nim_product(p_1, F_a \u001b[38;5;241m>>\u001b[39m \u001b[38;5;241m1\u001b[39m)\n\u001b[0;32m     57\u001b[0m p_5 \u001b[38;5;241m=\u001b[39m p_3 \u001b[38;5;241m^\u001b[39m p_2\n",
      "Cell \u001b[1;32mIn[195], line 56\u001b[0m, in \u001b[0;36mnim_product\u001b[1;34m(a, b)\u001b[0m\n\u001b[0;32m     54\u001b[0m p_2 \u001b[38;5;241m=\u001b[39m nim_product(r_a,r_b)\n\u001b[0;32m     55\u001b[0m p_3 \u001b[38;5;241m=\u001b[39m nim_product(q_a \u001b[38;5;241m^\u001b[39m r_a, q_b \u001b[38;5;241m^\u001b[39m r_b)\n\u001b[1;32m---> 56\u001b[0m p_4 \u001b[38;5;241m=\u001b[39m \u001b[43mnim_product\u001b[49m\u001b[43m(\u001b[49m\u001b[43mp_1\u001b[49m\u001b[43m,\u001b[49m\u001b[43m \u001b[49m\u001b[43mF_a\u001b[49m\u001b[43m \u001b[49m\u001b[38;5;241;43m>>\u001b[39;49m\u001b[43m \u001b[49m\u001b[38;5;241;43m1\u001b[39;49m\u001b[43m)\u001b[49m\n\u001b[0;32m     57\u001b[0m p_5 \u001b[38;5;241m=\u001b[39m p_3 \u001b[38;5;241m^\u001b[39m p_2\n\u001b[0;32m     58\u001b[0m \u001b[38;5;28;01mreturn\u001b[39;00m p_5 \u001b[38;5;241m*\u001b[39m F_a \u001b[38;5;241m^\u001b[39m p_2 \u001b[38;5;241m^\u001b[39m p_4\n",
      "Cell \u001b[1;32mIn[195], line 56\u001b[0m, in \u001b[0;36mnim_product\u001b[1;34m(a, b)\u001b[0m\n\u001b[0;32m     54\u001b[0m p_2 \u001b[38;5;241m=\u001b[39m nim_product(r_a,r_b)\n\u001b[0;32m     55\u001b[0m p_3 \u001b[38;5;241m=\u001b[39m nim_product(q_a \u001b[38;5;241m^\u001b[39m r_a, q_b \u001b[38;5;241m^\u001b[39m r_b)\n\u001b[1;32m---> 56\u001b[0m p_4 \u001b[38;5;241m=\u001b[39m \u001b[43mnim_product\u001b[49m\u001b[43m(\u001b[49m\u001b[43mp_1\u001b[49m\u001b[43m,\u001b[49m\u001b[43m \u001b[49m\u001b[43mF_a\u001b[49m\u001b[43m \u001b[49m\u001b[38;5;241;43m>>\u001b[39;49m\u001b[43m \u001b[49m\u001b[38;5;241;43m1\u001b[39;49m\u001b[43m)\u001b[49m\n\u001b[0;32m     57\u001b[0m p_5 \u001b[38;5;241m=\u001b[39m p_3 \u001b[38;5;241m^\u001b[39m p_2\n\u001b[0;32m     58\u001b[0m \u001b[38;5;28;01mreturn\u001b[39;00m p_5 \u001b[38;5;241m*\u001b[39m F_a \u001b[38;5;241m^\u001b[39m p_2 \u001b[38;5;241m^\u001b[39m p_4\n",
      "Cell \u001b[1;32mIn[195], line 41\u001b[0m, in \u001b[0;36mnim_product\u001b[1;34m(a, b)\u001b[0m\n\u001b[0;32m     37\u001b[0m     \u001b[38;5;28;01mreturn\u001b[39;00m \u001b[38;5;241m3\u001b[39m\n\u001b[0;32m     38\u001b[0m \u001b[38;5;28;01melse\u001b[39;00m:\n\u001b[0;32m     39\u001b[0m     \u001b[38;5;66;03m# do euclidean division by greatest possible fermat power \u001b[39;00m\n\u001b[0;32m     40\u001b[0m     \u001b[38;5;66;03m# a = q_a * F_a + r_a and b = q_b * F_b + r_b\u001b[39;00m\n\u001b[1;32m---> 41\u001b[0m     F_a \u001b[38;5;241m=\u001b[39m \u001b[43mleast_fermat\u001b[49m\u001b[43m(\u001b[49m\u001b[43ma\u001b[49m\u001b[43m)\u001b[49m; F_b \u001b[38;5;241m=\u001b[39m least_fermat(b)\n\u001b[0;32m     42\u001b[0m     q_a \u001b[38;5;241m=\u001b[39m a \u001b[38;5;241m/\u001b[39m\u001b[38;5;241m/\u001b[39m F_a ; q_b \u001b[38;5;241m=\u001b[39m b \u001b[38;5;241m/\u001b[39m\u001b[38;5;241m/\u001b[39m F_b\n\u001b[0;32m     43\u001b[0m     r_a \u001b[38;5;241m=\u001b[39m a \u001b[38;5;241m%\u001b[39m F_a ; r_b \u001b[38;5;241m=\u001b[39m b \u001b[38;5;241m%\u001b[39m F_b\n",
      "Cell \u001b[1;32mIn[195], line 17\u001b[0m, in \u001b[0;36mleast_fermat\u001b[1;34m(N)\u001b[0m\n\u001b[0;32m     14\u001b[0m \u001b[38;5;28;01mdef\u001b[39;00m \u001b[38;5;21mnim_sum\u001b[39m(n : \u001b[38;5;28mint\u001b[39m,m : \u001b[38;5;28mint\u001b[39m) \u001b[38;5;241m-\u001b[39m\u001b[38;5;241m>\u001b[39m \u001b[38;5;28mint\u001b[39m:\n\u001b[0;32m     15\u001b[0m     \u001b[38;5;28;01mreturn\u001b[39;00m n \u001b[38;5;241m^\u001b[39m m\n\u001b[1;32m---> 17\u001b[0m \u001b[38;5;28;01mdef\u001b[39;00m \u001b[38;5;21mleast_fermat\u001b[39m(N : \u001b[38;5;28mint\u001b[39m) \u001b[38;5;241m-\u001b[39m\u001b[38;5;241m>\u001b[39m \u001b[38;5;28mint\u001b[39m:\n\u001b[0;32m     18\u001b[0m \u001b[38;5;250m    \u001b[39m\u001b[38;5;124;03m'''\u001b[39;00m\n\u001b[0;32m     19\u001b[0m \u001b[38;5;124;03m    Find the least Fermat power <= N \u001b[39;00m\n\u001b[0;32m     20\u001b[0m \u001b[38;5;124;03m    2 ** (2 ** n) <= N\u001b[39;00m\n\u001b[0;32m     21\u001b[0m \u001b[38;5;124;03m    '''\u001b[39;00m\n\u001b[0;32m     22\u001b[0m     \u001b[38;5;28;01mif\u001b[39;00m N \u001b[38;5;241m<\u001b[39m \u001b[38;5;241m2\u001b[39m:\n",
      "\u001b[1;31mKeyboardInterrupt\u001b[0m: "
     ]
    }
   ],
   "source": [
    "candidate = 2\n",
    "for i in range(1,6):\n",
    "    while nim_order(candidate) <= (1 << (1 << i))-1:\n",
    "            if nim_order(candidate) == (1 << (1 << i))-1:\n",
    "                print(f'The least generator of GF(2^(2^{i})) is {candidate}')\n",
    "                candidate = 1 << (1 << i)\n",
    "            else:\n",
    "                candidate += 1"
   ]
  },
  {
   "cell_type": "code",
   "execution_count": null,
   "metadata": {},
   "outputs": [],
   "source": []
  }
 ],
 "metadata": {
  "kernelspec": {
   "display_name": "Python 3",
   "language": "python",
   "name": "python3"
  },
  "language_info": {
   "codemirror_mode": {
    "name": "ipython",
    "version": 3
   },
   "file_extension": ".py",
   "mimetype": "text/x-python",
   "name": "python",
   "nbconvert_exporter": "python",
   "pygments_lexer": "ipython3",
   "version": "3.12.5"
  }
 },
 "nbformat": 4,
 "nbformat_minor": 2
}
