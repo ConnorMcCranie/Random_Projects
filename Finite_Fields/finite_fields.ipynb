{
 "cells": [
  {
   "cell_type": "code",
   "execution_count": 72,
   "metadata": {},
   "outputs": [
    {
     "name": "stdout",
     "output_type": "stream",
     "text": [
      "0\n",
      "2\n",
      "1\n",
      "2\n",
      "3\n",
      "6\n",
      "9\n",
      "18\n",
      "30\n",
      "56\n",
      "99\n",
      "186\n"
     ]
    },
    {
     "ename": "KeyboardInterrupt",
     "evalue": "",
     "output_type": "error",
     "traceback": [
      "\u001b[1;31m---------------------------------------------------------------------------\u001b[0m",
      "\u001b[1;31mKeyboardInterrupt\u001b[0m                         Traceback (most recent call last)",
      "Cell \u001b[1;32mIn[72], line 59\u001b[0m\n\u001b[0;32m     55\u001b[0m         \u001b[38;5;28;01mreturn\u001b[39;00m polynomials\n\u001b[0;32m     58\u001b[0m \u001b[38;5;28;01mfor\u001b[39;00m i \u001b[38;5;129;01min\u001b[39;00m \u001b[38;5;28mrange\u001b[39m(\u001b[38;5;241m100\u001b[39m):\n\u001b[1;32m---> 59\u001b[0m     \u001b[38;5;28mprint\u001b[39m(\u001b[38;5;28mlen\u001b[39m(\u001b[43mirred_polys\u001b[49m\u001b[43m(\u001b[49m\u001b[38;5;241;43m2\u001b[39;49m\u001b[43m,\u001b[49m\u001b[43mi\u001b[49m\u001b[43m)\u001b[49m))\n\u001b[0;32m     60\u001b[0m \u001b[38;5;66;03m#yay!~\u001b[39;00m\n",
      "Cell \u001b[1;32mIn[72], line 49\u001b[0m, in \u001b[0;36mirred_polys\u001b[1;34m(p, n)\u001b[0m\n\u001b[0;32m     46\u001b[0m \u001b[38;5;28;01mfor\u001b[39;00m d \u001b[38;5;129;01min\u001b[39;00m  proper_divisors(n):\n\u001b[0;32m     48\u001b[0m     \u001b[38;5;28;01mfor\u001b[39;00m f \u001b[38;5;129;01min\u001b[39;00m irred_polys(p,d):\n\u001b[1;32m---> 49\u001b[0m         q \u001b[38;5;241m=\u001b[39m simplify(\u001b[43mdiv\u001b[49m\u001b[43m(\u001b[49m\u001b[43mq\u001b[49m\u001b[43m,\u001b[49m\u001b[43mf\u001b[49m\u001b[43m)\u001b[49m[\u001b[38;5;241m0\u001b[39m ])\n\u001b[0;32m     51\u001b[0m factors \u001b[38;5;241m=\u001b[39m factor_list(q,domain\u001b[38;5;241m=\u001b[39mF)\n\u001b[0;32m     52\u001b[0m \u001b[38;5;28;01mfor\u001b[39;00m g \u001b[38;5;129;01min\u001b[39;00m factors[\u001b[38;5;241m1\u001b[39m]:\n",
      "File \u001b[1;32m~\\AppData\\Local\\Packages\\PythonSoftwareFoundation.Python.3.12_qbz5n2kfra8p0\\LocalCache\\local-packages\\Python312\\site-packages\\sympy\\polys\\polytools.py:4981\u001b[0m, in \u001b[0;36mdiv\u001b[1;34m(f, g, *gens, **args)\u001b[0m\n\u001b[0;32m   4978\u001b[0m \u001b[38;5;28;01mexcept\u001b[39;00m PolificationFailed \u001b[38;5;28;01mas\u001b[39;00m exc:\n\u001b[0;32m   4979\u001b[0m     \u001b[38;5;28;01mraise\u001b[39;00m ComputationFailed(\u001b[38;5;124m'\u001b[39m\u001b[38;5;124mdiv\u001b[39m\u001b[38;5;124m'\u001b[39m, \u001b[38;5;241m2\u001b[39m, exc)\n\u001b[1;32m-> 4981\u001b[0m q, r \u001b[38;5;241m=\u001b[39m \u001b[43mF\u001b[49m\u001b[38;5;241;43m.\u001b[39;49m\u001b[43mdiv\u001b[49m\u001b[43m(\u001b[49m\u001b[43mG\u001b[49m\u001b[43m,\u001b[49m\u001b[43m \u001b[49m\u001b[43mauto\u001b[49m\u001b[38;5;241;43m=\u001b[39;49m\u001b[43mopt\u001b[49m\u001b[38;5;241;43m.\u001b[39;49m\u001b[43mauto\u001b[49m\u001b[43m)\u001b[49m\n\u001b[0;32m   4983\u001b[0m \u001b[38;5;28;01mif\u001b[39;00m \u001b[38;5;129;01mnot\u001b[39;00m opt\u001b[38;5;241m.\u001b[39mpolys:\n\u001b[0;32m   4984\u001b[0m     \u001b[38;5;28;01mreturn\u001b[39;00m q\u001b[38;5;241m.\u001b[39mas_expr(), r\u001b[38;5;241m.\u001b[39mas_expr()\n",
      "File \u001b[1;32m~\\AppData\\Local\\Packages\\PythonSoftwareFoundation.Python.3.12_qbz5n2kfra8p0\\LocalCache\\local-packages\\Python312\\site-packages\\sympy\\polys\\polytools.py:1714\u001b[0m, in \u001b[0;36mPoly.div\u001b[1;34m(f, g, auto)\u001b[0m\n\u001b[0;32m   1711\u001b[0m     retract \u001b[38;5;241m=\u001b[39m \u001b[38;5;28;01mTrue\u001b[39;00m\n\u001b[0;32m   1713\u001b[0m \u001b[38;5;28;01mif\u001b[39;00m \u001b[38;5;28mhasattr\u001b[39m(f\u001b[38;5;241m.\u001b[39mrep, \u001b[38;5;124m'\u001b[39m\u001b[38;5;124mdiv\u001b[39m\u001b[38;5;124m'\u001b[39m):\n\u001b[1;32m-> 1714\u001b[0m     q, r \u001b[38;5;241m=\u001b[39m \u001b[43mF\u001b[49m\u001b[38;5;241;43m.\u001b[39;49m\u001b[43mdiv\u001b[49m\u001b[43m(\u001b[49m\u001b[43mG\u001b[49m\u001b[43m)\u001b[49m\n\u001b[0;32m   1715\u001b[0m \u001b[38;5;28;01melse\u001b[39;00m:  \u001b[38;5;66;03m# pragma: no cover\u001b[39;00m\n\u001b[0;32m   1716\u001b[0m     \u001b[38;5;28;01mraise\u001b[39;00m OperationNotSupported(f, \u001b[38;5;124m'\u001b[39m\u001b[38;5;124mdiv\u001b[39m\u001b[38;5;124m'\u001b[39m)\n",
      "File \u001b[1;32m~\\AppData\\Local\\Packages\\PythonSoftwareFoundation.Python.3.12_qbz5n2kfra8p0\\LocalCache\\local-packages\\Python312\\site-packages\\sympy\\polys\\polyclasses.py:494\u001b[0m, in \u001b[0;36mDMP.div\u001b[1;34m(f, g)\u001b[0m\n\u001b[0;32m    492\u001b[0m \u001b[38;5;250m\u001b[39m\u001b[38;5;124;03m\"\"\"Polynomial division with remainder of ``f`` and ``g``. \"\"\"\u001b[39;00m\n\u001b[0;32m    493\u001b[0m lev, dom, per, F, G \u001b[38;5;241m=\u001b[39m f\u001b[38;5;241m.\u001b[39munify(g)\n\u001b[1;32m--> 494\u001b[0m q, r \u001b[38;5;241m=\u001b[39m \u001b[43mdmp_div\u001b[49m\u001b[43m(\u001b[49m\u001b[43mF\u001b[49m\u001b[43m,\u001b[49m\u001b[43m \u001b[49m\u001b[43mG\u001b[49m\u001b[43m,\u001b[49m\u001b[43m \u001b[49m\u001b[43mlev\u001b[49m\u001b[43m,\u001b[49m\u001b[43m \u001b[49m\u001b[43mdom\u001b[49m\u001b[43m)\u001b[49m\n\u001b[0;32m    495\u001b[0m \u001b[38;5;28;01mreturn\u001b[39;00m per(q), per(r)\n",
      "File \u001b[1;32m~\\AppData\\Local\\Packages\\PythonSoftwareFoundation.Python.3.12_qbz5n2kfra8p0\\LocalCache\\local-packages\\Python312\\site-packages\\sympy\\polys\\densearith.py:1627\u001b[0m, in \u001b[0;36mdmp_div\u001b[1;34m(f, g, u, K)\u001b[0m\n\u001b[0;32m   1609\u001b[0m \u001b[38;5;250m\u001b[39m\u001b[38;5;124;03m\"\"\"\u001b[39;00m\n\u001b[0;32m   1610\u001b[0m \u001b[38;5;124;03mPolynomial division with remainder in ``K[X]``.\u001b[39;00m\n\u001b[0;32m   1611\u001b[0m \n\u001b[1;32m   (...)\u001b[0m\n\u001b[0;32m   1624\u001b[0m \n\u001b[0;32m   1625\u001b[0m \u001b[38;5;124;03m\"\"\"\u001b[39;00m\n\u001b[0;32m   1626\u001b[0m \u001b[38;5;28;01mif\u001b[39;00m K\u001b[38;5;241m.\u001b[39mis_Field:\n\u001b[1;32m-> 1627\u001b[0m     \u001b[38;5;28;01mreturn\u001b[39;00m \u001b[43mdmp_ff_div\u001b[49m\u001b[43m(\u001b[49m\u001b[43mf\u001b[49m\u001b[43m,\u001b[49m\u001b[43m \u001b[49m\u001b[43mg\u001b[49m\u001b[43m,\u001b[49m\u001b[43m \u001b[49m\u001b[43mu\u001b[49m\u001b[43m,\u001b[49m\u001b[43m \u001b[49m\u001b[43mK\u001b[49m\u001b[43m)\u001b[49m\n\u001b[0;32m   1628\u001b[0m \u001b[38;5;28;01melse\u001b[39;00m:\n\u001b[0;32m   1629\u001b[0m     \u001b[38;5;28;01mreturn\u001b[39;00m dmp_rr_div(f, g, u, K)\n",
      "File \u001b[1;32m~\\AppData\\Local\\Packages\\PythonSoftwareFoundation.Python.3.12_qbz5n2kfra8p0\\LocalCache\\local-packages\\Python312\\site-packages\\sympy\\polys\\densearith.py:1477\u001b[0m, in \u001b[0;36mdmp_ff_div\u001b[1;34m(f, g, u, K)\u001b[0m\n\u001b[0;32m   1463\u001b[0m \u001b[38;5;250m\u001b[39m\u001b[38;5;124;03m\"\"\"\u001b[39;00m\n\u001b[0;32m   1464\u001b[0m \u001b[38;5;124;03mPolynomial division with remainder over a field.\u001b[39;00m\n\u001b[0;32m   1465\u001b[0m \n\u001b[1;32m   (...)\u001b[0m\n\u001b[0;32m   1474\u001b[0m \n\u001b[0;32m   1475\u001b[0m \u001b[38;5;124;03m\"\"\"\u001b[39;00m\n\u001b[0;32m   1476\u001b[0m \u001b[38;5;28;01mif\u001b[39;00m \u001b[38;5;129;01mnot\u001b[39;00m u:\n\u001b[1;32m-> 1477\u001b[0m     \u001b[38;5;28;01mreturn\u001b[39;00m \u001b[43mdup_ff_div\u001b[49m\u001b[43m(\u001b[49m\u001b[43mf\u001b[49m\u001b[43m,\u001b[49m\u001b[43m \u001b[49m\u001b[43mg\u001b[49m\u001b[43m,\u001b[49m\u001b[43m \u001b[49m\u001b[43mK\u001b[49m\u001b[43m)\u001b[49m\n\u001b[0;32m   1479\u001b[0m df \u001b[38;5;241m=\u001b[39m dmp_degree(f, u)\n\u001b[0;32m   1480\u001b[0m dg \u001b[38;5;241m=\u001b[39m dmp_degree(g, u)\n",
      "File \u001b[1;32m~\\AppData\\Local\\Packages\\PythonSoftwareFoundation.Python.3.12_qbz5n2kfra8p0\\LocalCache\\local-packages\\Python312\\site-packages\\sympy\\polys\\densearith.py:1444\u001b[0m, in \u001b[0;36mdup_ff_div\u001b[1;34m(f, g, K)\u001b[0m\n\u001b[0;32m   1442\u001b[0m q \u001b[38;5;241m=\u001b[39m dup_add_term(q, c, j, K)\n\u001b[0;32m   1443\u001b[0m h \u001b[38;5;241m=\u001b[39m dup_mul_term(g, c, j, K)\n\u001b[1;32m-> 1444\u001b[0m r \u001b[38;5;241m=\u001b[39m \u001b[43mdup_sub\u001b[49m\u001b[43m(\u001b[49m\u001b[43mr\u001b[49m\u001b[43m,\u001b[49m\u001b[43m \u001b[49m\u001b[43mh\u001b[49m\u001b[43m,\u001b[49m\u001b[43m \u001b[49m\u001b[43mK\u001b[49m\u001b[43m)\u001b[49m\n\u001b[0;32m   1446\u001b[0m _dr, dr \u001b[38;5;241m=\u001b[39m dr, dup_degree(r)\n\u001b[0;32m   1448\u001b[0m \u001b[38;5;28;01mif\u001b[39;00m dr \u001b[38;5;241m<\u001b[39m dg:\n",
      "File \u001b[1;32m~\\AppData\\Local\\Packages\\PythonSoftwareFoundation.Python.3.12_qbz5n2kfra8p0\\LocalCache\\local-packages\\Python312\\site-packages\\sympy\\polys\\densearith.py:613\u001b[0m, in \u001b[0;36mdup_sub\u001b[1;34m(f, g, K)\u001b[0m\n\u001b[0;32m    610\u001b[0m dg \u001b[38;5;241m=\u001b[39m dup_degree(g)\n\u001b[0;32m    612\u001b[0m \u001b[38;5;28;01mif\u001b[39;00m df \u001b[38;5;241m==\u001b[39m dg:\n\u001b[1;32m--> 613\u001b[0m     \u001b[38;5;28;01mreturn\u001b[39;00m dup_strip([ a \u001b[38;5;241m-\u001b[39m b \u001b[38;5;28;01mfor\u001b[39;00m a, b \u001b[38;5;129;01min\u001b[39;00m \u001b[38;5;28mzip\u001b[39m(f, g) ])\n\u001b[0;32m    614\u001b[0m \u001b[38;5;28;01melse\u001b[39;00m:\n\u001b[0;32m    615\u001b[0m     k \u001b[38;5;241m=\u001b[39m \u001b[38;5;28mabs\u001b[39m(df \u001b[38;5;241m-\u001b[39m dg)\n",
      "\u001b[1;31mKeyboardInterrupt\u001b[0m: "
     ]
    }
   ],
   "source": [
    "import numpy as np\n",
    "import sympy as sp\n",
    "from sympy import poly\n",
    "from sympy import simplify\n",
    "from sympy import div\n",
    "from sympy import GF\n",
    "from sympy import factor_list\n",
    "from sympy.abc import x\n",
    "def is_prime(n):\n",
    "    \"\"\"\n",
    "    Return True if n is prime, False otherwise.\n",
    "    \"\"\"\n",
    "    if n <= 1:\n",
    "        return False\n",
    "    for i in range(2,n):\n",
    "        if n%i == 0:\n",
    "            return False\n",
    "    return True\n",
    "\n",
    "def proper_divisors(n):\n",
    "    \"\"\"\n",
    "    Return the list of divisors of n.\n",
    "    \"\"\"\n",
    "    divs = []\n",
    "    for i in range(1,n//2+1):\n",
    "        if n%i == 0:\n",
    "            divs.append(i)\n",
    "    return divs\n",
    "\n",
    "def irred_polys(p,n):\n",
    "    \"\"\"\n",
    "    Return the list of irreducible polynomials of degree n over the field GF(p).\n",
    "    \"\"\"\n",
    "    F = GF(p)\n",
    "    polynomials = []\n",
    "    if n <= 0:\n",
    "        return polynomials\n",
    "    \n",
    "    elif n == 1:\n",
    "        for i in range(p):\n",
    "            polynomials.append(poly(x-i, domain=F))\n",
    "\n",
    "        return polynomials\n",
    "    else:\n",
    "        q = poly(x**(p**(n))-x, domain=F)\n",
    "        for d in  proper_divisors(n):\n",
    "        \n",
    "            for f in irred_polys(p,d):\n",
    "                q = simplify(div(q,f)[0 ])\n",
    "                \n",
    "        factors = factor_list(q,domain=F)\n",
    "        for g in factors[1]:\n",
    "            polynomials.append(g[0])\n",
    "\n",
    "        return polynomials\n",
    "                 \n",
    "                \n",
    "for i in range(10):\n",
    "    print(len(irred_polys(2,i)))\n",
    "#yay!~\n"
   ]
  },
  {
   "cell_type": "markdown",
   "metadata": {},
   "source": []
  }
 ],
 "metadata": {
  "kernelspec": {
   "display_name": "Python 3",
   "language": "python",
   "name": "python3"
  },
  "language_info": {
   "codemirror_mode": {
    "name": "ipython",
    "version": 3
   },
   "file_extension": ".py",
   "mimetype": "text/x-python",
   "name": "python",
   "nbconvert_exporter": "python",
   "pygments_lexer": "ipython3",
   "version": "3.12.2"
  }
 },
 "nbformat": 4,
 "nbformat_minor": 2
}
