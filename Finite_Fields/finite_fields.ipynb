{
 "cells": [
  {
   "cell_type": "code",
   "execution_count": 1,
   "metadata": {},
   "outputs": [
    {
     "name": "stdout",
     "output_type": "stream",
     "text": [
      "0\n",
      "2\n",
      "1\n",
      "2\n",
      "3\n",
      "6\n",
      "9\n",
      "18\n",
      "30\n",
      "56\n"
     ]
    }
   ],
   "source": [
    "import numpy as np\n",
    "import sympy as sp\n",
    "from sympy import poly\n",
    "from sympy import simplify\n",
    "from sympy import div\n",
    "from sympy import GF\n",
    "from sympy import factor_list\n",
    "from sympy.abc import x\n",
    "def is_prime(n):\n",
    "    \"\"\"\n",
    "    Return True if n is prime, False otherwise.\n",
    "    \"\"\"\n",
    "    if n <= 1:\n",
    "        return False\n",
    "    for i in range(2,n):\n",
    "        if n%i == 0:\n",
    "            return False\n",
    "    return True\n",
    "\n",
    "def proper_divisors(n):\n",
    "    \"\"\"\n",
    "    Return the list of divisors of n.\n",
    "    \"\"\"\n",
    "    divs = []\n",
    "    for i in range(1,n//2+1):\n",
    "        if n%i == 0:\n",
    "            divs.append(i)\n",
    "    return divs\n",
    "\n",
    "def irred_polys(p,n):\n",
    "    \"\"\"\n",
    "    Return the list of irreducible polynomials of degree n over the field GF(p).\n",
    "    \"\"\"\n",
    "    F = GF(p)\n",
    "    polynomials = []\n",
    "    if n <= 0:\n",
    "        return polynomials\n",
    "    \n",
    "    elif n == 1:\n",
    "        for i in range(p):\n",
    "            polynomials.append(poly(x-i, domain=F))\n",
    "\n",
    "        return polynomials\n",
    "    else:\n",
    "        q = poly(x**(p**(n))-x, domain=F)\n",
    "        for d in  proper_divisors(n):\n",
    "        \n",
    "            for f in irred_polys(p,d):\n",
    "                q = simplify(div(q,f)[0 ])\n",
    "                \n",
    "        factors = factor_list(q,domain=F)\n",
    "        for g in factors[1]:\n",
    "            polynomials.append(g[0])\n",
    "\n",
    "        return polynomials\n",
    "                 \n",
    "                \n",
    "for i in range(10):\n",
    "    print(len(irred_polys(2,i)))\n",
    "#yay!~\n"
   ]
  },
  {
   "cell_type": "markdown",
   "metadata": {},
   "source": []
  }
 ],
 "metadata": {
  "kernelspec": {
   "display_name": "Python 3",
   "language": "python",
   "name": "python3"
  },
  "language_info": {
   "codemirror_mode": {
    "name": "ipython",
    "version": 3
   },
   "file_extension": ".py",
   "mimetype": "text/x-python",
   "name": "python",
   "nbconvert_exporter": "python",
   "pygments_lexer": "ipython3",
   "version": "3.12.5"
  }
 },
 "nbformat": 4,
 "nbformat_minor": 2
}
