{
 "cells": [
  {
   "cell_type": "code",
   "execution_count": 10,
   "metadata": {},
   "outputs": [],
   "source": [
    "import numpy as np\n",
    "\n",
    "def is_power_of_two(n : int) -> bool:\n",
    "    if n == 0:\n",
    "        return False\n",
    "    return (n & (n - 1)) == 0\n",
    "\n",
    "def is_fermat_power(n : int) -> bool:\n",
    "    if n < 4_000_000_000:\n",
    "        return (n == 2) | (n == 4) | (n == 16) | (n == 256) | (n == 65536)\n",
    "    elif not is_power_of_two(n):\n",
    "        return False\n",
    "    else:\n",
    "        return is_power_of_two(n.bit_length() - 1)\n",
    "\n"
   ]
  },
  {
   "cell_type": "code",
   "execution_count": 21,
   "metadata": {},
   "outputs": [
    {
     "data": {
      "text/plain": [
       "7"
      ]
     },
     "execution_count": 21,
     "metadata": {},
     "output_type": "execute_result"
    }
   ],
   "source": [
    "def nim_sum(n : int,m : int) -> int:\n",
    "    return n ^ m\n",
    "\n",
    "def nim_prod(x : int,y : int) -> int:\n",
    "    # first handle trivial cases\n",
    "    if x == 0 | y == 0:\n",
    "        return 0\n",
    "    elif x == 1:\n",
    "        return y\n",
    "    elif y == 1:\n",
    "        return x\n",
    "    \n",
    "    # next, use the rule for multiplying Fermat powers F=2 ** (2 ** n)\n",
    "    # if x < F, then nim_prod(x,F)= x*F   (ordinary product)\n",
    "    # and nim_prod(F,F) = 3*F/2\n",
    "    m = min(x,y)\n",
    "    M = max(x,y)\n",
    "    \n",
    "    if is_fermat_power(M):\n",
    "        # nim product of Fermat power with smaller is ordinary product\n",
    "        if m < M:\n",
    "            return m*M\n",
    "        else:\n",
    "            # nim square of fermat power x is 3x/2\n",
    "            return 3*M >> 1\n",
    "    elif is_power_of_two(M):\n",
    "        # if exponent is not power of 2, factor out 2's until it is\n",
    "        # M = (factored) * (2 ** exponent)\n",
    "        # we know at least one 2 needs to be pulled out        \n",
    "        exponent = 1\n",
    "        M >>=  1\n",
    "        while not is_fermat_power(M):\n",
    "            M >>= 1\n",
    "            exponent += 1\n",
    "        # now use formula for fermat power and associativity\n",
    "        return nim_prod(M, nim_prod(m, 1 << exponent))\n",
    "    else:\n",
    "        # otherwise, write it as the sum of powers of 2 and distribute\n",
    "        sum = 0\n",
    "        for index in range(M.bit_length()):\n",
    "            if M >> index & 1 == 1:\n",
    "                sum ^= nim_prod(m, 1 << index)\n",
    "        return sum \n",
    "    \n"
   ]
  },
  {
   "cell_type": "code",
   "execution_count": 25,
   "metadata": {},
   "outputs": [
    {
     "data": {
      "text/plain": [
       "9"
      ]
     },
     "execution_count": 25,
     "metadata": {},
     "output_type": "execute_result"
    }
   ],
   "source": [
    "M = "
   ]
  },
  {
   "cell_type": "code",
   "execution_count": 22,
   "metadata": {},
   "outputs": [
    {
     "name": "stdout",
     "output_type": "stream",
     "text": [
      "The 0th bit of 999 is 1\n",
      "The 1th bit of 999 is 1\n",
      "The 2th bit of 999 is 1\n",
      "The 3th bit of 999 is 0\n",
      "The 4th bit of 999 is 0\n",
      "The 5th bit of 999 is 1\n",
      "The 6th bit of 999 is 1\n",
      "The 7th bit of 999 is 1\n",
      "The 8th bit of 999 is 1\n",
      "The 9th bit of 999 is 1\n",
      "bin(999) ='0b1111100111'\n"
     ]
    }
   ],
   "source": [
    "def test_func(N : int) -> None:\n",
    "    for n in range(N.bit_length()):\n",
    "        print(f'The {n}th bit of {N} is {N >> n & 1}')\n",
    "\n",
    "test_func(999)\n",
    "print(f'{bin(999) =}')"
   ]
  },
  {
   "cell_type": "code",
   "execution_count": null,
   "metadata": {},
   "outputs": [],
   "source": []
  }
 ],
 "metadata": {
  "kernelspec": {
   "display_name": "Python 3",
   "language": "python",
   "name": "python3"
  },
  "language_info": {
   "codemirror_mode": {
    "name": "ipython",
    "version": 3
   },
   "file_extension": ".py",
   "mimetype": "text/x-python",
   "name": "python",
   "nbconvert_exporter": "python",
   "pygments_lexer": "ipython3",
   "version": "3.12.5"
  }
 },
 "nbformat": 4,
 "nbformat_minor": 2
}
