{
 "cells": [
  {
   "cell_type": "code",
   "execution_count": 3,
   "metadata": {},
   "outputs": [],
   "source": []
  },
  {
   "cell_type": "code",
   "execution_count": 22,
   "metadata": {},
   "outputs": [],
   "source": [
    "\n",
    "def is_power_of_two(n : int) -> bool:\n",
    "    if n == 0:\n",
    "        return False\n",
    "    return (n & (n - 1)) == 0\n",
    "\n",
    "def is_fermat_power(n : int) -> bool:\n",
    "    if n < 4_000_000_000:\n",
    "        return (n == 2) | (n == 4) | (n == 16) | (n == 256) | (n == 65536)\n",
    "    elif not is_power_of_two(n):\n",
    "        return False\n",
    "    else:\n",
    "        return is_power_of_two(n.bit_length() - 1)\n",
    "\n",
    "def nim_sum(n : int,m : int) -> int:\n",
    "    return n ^ m\n",
    "\n",
    "def nim_prod(x : int,y : int) -> int:\n",
    "    # first handle trivial cases\n",
    "    if x == 0 | y == 0:\n",
    "        return 0\n",
    "    elif x == 1:\n",
    "        return y\n",
    "    elif y == 1:\n",
    "        return x\n",
    "    \n",
    "    # next, use the rule for multiplying Fermat powers F=2 ** (2 ** n)\n",
    "    # if x < F, then nim_prod(x,F)= x*F   (ordinary product)\n",
    "    # and nim_prod(F,F) = 3*F/2\n",
    "    m = min(x,y)\n",
    "    M = max(x,y)\n",
    "    \n",
    "    if is_fermat_power(M):\n",
    "        # nim product of Fermat power with smaller is ordinary product\n",
    "        if m < M:\n",
    "            return m*M\n",
    "        else:\n",
    "            # nim square of fermat power x is 3x/2\n",
    "            return 3*M >> 1\n",
    "    elif is_power_of_two(M):\n",
    "        # if exponent is not power of 2, factor out 2's until it is\n",
    "        # M = (factored) * (2 ** exponent)\n",
    "        # we know at least one 2 needs to be pulled out        \n",
    "        exponent = 1\n",
    "        factored = M >> 1\n",
    "        while not is_fermat_power(factored):\n",
    "            factored >>= 1\n",
    "            exponent += 1\n",
    "        # now use formula for fermat power and associativity\n",
    "        # m* M = (m * factored) * (2 ** exponent) = (m * (2 ** exponent)) * factored\n",
    "        # we have to re-order the parentheses carefully to avoid infinite loop\n",
    "        intermediate = nim_prod(m, factored)\n",
    "        if intermediate == M:\n",
    "            intermediate = nim_prod(m, 1 << exponent)\n",
    "            return nim_prod(intermediate, factored)\n",
    "        return nim_prod(intermediate, 1 << exponent)\n",
    "    else:\n",
    "        # otherwise, write it as the sum of powers of 2 and distribute\n",
    "        sum = 0\n",
    "        for index in range(M.bit_length()):\n",
    "            if M >> index & 1 == 1:\n",
    "                sum ^= nim_prod(m, 1 << index)\n",
    "        return sum \n",
    "    \n",
    "def nim_power(x : int,n : int) -> int:\n",
    "    if n == 0:\n",
    "        return 1\n",
    "    elif n == 1:\n",
    "        return x\n",
    "    elif x == 0:\n",
    "        return 0\n",
    "    elif x == 1:\n",
    "        return 1\n",
    "    else:\n",
    "        return nim_prod(nim_power(x,n-1),x)\n",
    "    \n",
    "def nim_order(n : int) -> int:\n",
    "    if n == 0:\n",
    "        return 0\n",
    "    elif n == 1:\n",
    "        return 1\n",
    "    else:\n",
    "        order = 1\n",
    "        while nim_power(n,order) != 1:\n",
    "            order += 1\n",
    "        return order\n"
   ]
  },
  {
   "cell_type": "code",
   "execution_count": 12,
   "metadata": {},
   "outputs": [],
   "source": [
    "def least_fermat(N : int) -> int:\n",
    "    '''\n",
    "    Find the least Fermat power <= N \n",
    "    2 ** (2 ** n) <= N\n",
    "    '''\n",
    "    if N < 2:\n",
    "        raise ValueError('The lowest Fermat power is 2')\n",
    "    bit_log = N.bit_length() - 1\n",
    "    bit_log_log = bit_log.bit_length()-1\n",
    "    return 1 << (1 << bit_log_log)\n",
    "\n",
    "def nim_product(a : int, b : int) -> int:\n",
    "    # first handle trivial cases\n",
    "    if a == 0 or b == 0:\n",
    "        return 0\n",
    "    elif a == 1:\n",
    "        return b\n",
    "    elif b == 1:\n",
    "        return a\n",
    "    elif a == 2 and b == 2:\n",
    "        return 3\n",
    "    else:\n",
    "        # do euclidean division by greatest possible fermat power \n",
    "        # a = q_a * F_a + r_a and b = q_b * F_b + r_b\n",
    "        F_a = least_fermat(a); F_b = least_fermat(b)\n",
    "        q_a = a // F_a ; q_b = b // F_b\n",
    "        r_a = a % F_a ; r_b = b % F_b\n",
    "\n",
    "        # if one the Fermat powers is greater than the other, then\n",
    "        # nim multiplication by it is the same as ordinary multiplication\n",
    "        if F_a < F_b:\n",
    "            return nim_product(a,q_b)*F_b ^ nim_product(a,r_b)\n",
    "        elif F_a > F_b:\n",
    "            return nim_product(q_a,b)*F_a ^ nim_product(r_a,b)\n",
    "        else:\n",
    "            # otherwise we have to distribute and use F_n ** 2 = 3 * F_n / 2\n",
    "            p_1 = nim_product(q_a,q_b)\n",
    "            p_2 = nim_product(r_a,r_b)\n",
    "            p_3 = nim_product(q_a ^ r_a, q_b ^ r_b)\n",
    "            p_4 = nim_product(p_1, F_a >> 1)\n",
    "            p_5 = p_3 ^ p_2\n",
    "            return p_5 * F_a ^ p_2 ^ p_4\n",
    "\n"
   ]
  },
  {
   "cell_type": "code",
   "execution_count": 16,
   "metadata": {},
   "outputs": [
    {
     "data": {
      "text/plain": [
       "6"
      ]
     },
     "execution_count": 16,
     "metadata": {},
     "output_type": "execute_result"
    }
   ],
   "source": [
    "38% 16\n"
   ]
  },
  {
   "cell_type": "code",
   "execution_count": 16,
   "metadata": {},
   "outputs": [
    {
     "data": {
      "text/latex": [
       "$\\displaystyle \\left[\\begin{array}{cccccccccccccccc}0 & 0 & 0 & 0 & 0 & 0 & 0 & 0 & 0 & 0 & 0 & 0 & 0 & 0 & 0 & 0\\\\0 & 1 & 2 & 3 & 4 & 5 & 6 & 7 & 8 & 9 & 10 & 11 & 12 & 13 & 14 & 15\\\\0 & 2 & 3 & 1 & 8 & 10 & 11 & 9 & 12 & 14 & 15 & 13 & 4 & 6 & 7 & 5\\\\0 & 3 & 1 & 2 & 12 & 15 & 13 & 14 & 4 & 7 & 5 & 6 & 8 & 11 & 9 & 10\\\\0 & 4 & 8 & 12 & 6 & 2 & 14 & 10 & 11 & 15 & 3 & 7 & 13 & 9 & 5 & 1\\\\0 & 5 & 10 & 15 & 2 & 7 & 8 & 13 & 3 & 6 & 9 & 12 & 1 & 4 & 11 & 14\\\\0 & 6 & 11 & 13 & 14 & 8 & 5 & 3 & 7 & 1 & 12 & 10 & 9 & 15 & 2 & 4\\\\0 & 7 & 9 & 14 & 10 & 13 & 3 & 4 & 15 & 8 & 6 & 1 & 5 & 2 & 12 & 11\\\\0 & 8 & 12 & 4 & 11 & 3 & 7 & 15 & 13 & 5 & 1 & 9 & 6 & 14 & 10 & 2\\\\0 & 9 & 14 & 7 & 15 & 6 & 1 & 8 & 5 & 12 & 11 & 2 & 10 & 3 & 4 & 13\\\\0 & 10 & 15 & 5 & 3 & 9 & 12 & 6 & 1 & 11 & 14 & 4 & 2 & 8 & 13 & 7\\\\0 & 11 & 13 & 6 & 7 & 12 & 10 & 1 & 9 & 2 & 4 & 15 & 14 & 5 & 3 & 8\\\\0 & 12 & 4 & 8 & 13 & 1 & 9 & 5 & 6 & 10 & 2 & 14 & 11 & 7 & 15 & 3\\\\0 & 13 & 6 & 11 & 9 & 4 & 15 & 2 & 14 & 3 & 8 & 5 & 7 & 10 & 1 & 12\\\\0 & 14 & 7 & 9 & 5 & 11 & 2 & 12 & 10 & 4 & 13 & 3 & 15 & 1 & 8 & 6\\\\0 & 15 & 5 & 10 & 1 & 14 & 4 & 11 & 2 & 13 & 7 & 8 & 3 & 12 & 6 & 9\\end{array}\\right]$"
      ],
      "text/plain": [
       "Matrix([\n",
       "[0,  0,  0,  0,  0,  0,  0,  0,  0,  0,  0,  0,  0,  0,  0,  0],\n",
       "[0,  1,  2,  3,  4,  5,  6,  7,  8,  9, 10, 11, 12, 13, 14, 15],\n",
       "[0,  2,  3,  1,  8, 10, 11,  9, 12, 14, 15, 13,  4,  6,  7,  5],\n",
       "[0,  3,  1,  2, 12, 15, 13, 14,  4,  7,  5,  6,  8, 11,  9, 10],\n",
       "[0,  4,  8, 12,  6,  2, 14, 10, 11, 15,  3,  7, 13,  9,  5,  1],\n",
       "[0,  5, 10, 15,  2,  7,  8, 13,  3,  6,  9, 12,  1,  4, 11, 14],\n",
       "[0,  6, 11, 13, 14,  8,  5,  3,  7,  1, 12, 10,  9, 15,  2,  4],\n",
       "[0,  7,  9, 14, 10, 13,  3,  4, 15,  8,  6,  1,  5,  2, 12, 11],\n",
       "[0,  8, 12,  4, 11,  3,  7, 15, 13,  5,  1,  9,  6, 14, 10,  2],\n",
       "[0,  9, 14,  7, 15,  6,  1,  8,  5, 12, 11,  2, 10,  3,  4, 13],\n",
       "[0, 10, 15,  5,  3,  9, 12,  6,  1, 11, 14,  4,  2,  8, 13,  7],\n",
       "[0, 11, 13,  6,  7, 12, 10,  1,  9,  2,  4, 15, 14,  5,  3,  8],\n",
       "[0, 12,  4,  8, 13,  1,  9,  5,  6, 10,  2, 14, 11,  7, 15,  3],\n",
       "[0, 13,  6, 11,  9,  4, 15,  2, 14,  3,  8,  5,  7, 10,  1, 12],\n",
       "[0, 14,  7,  9,  5, 11,  2, 12, 10,  4, 13,  3, 15,  1,  8,  6],\n",
       "[0, 15,  5, 10,  1, 14,  4, 11,  2, 13,  7,  8,  3, 12,  6,  9]])"
      ]
     },
     "execution_count": 16,
     "metadata": {},
     "output_type": "execute_result"
    }
   ],
   "source": [
    "import numpy as np\n",
    "import sympy as sp\n",
    "\n",
    "M = np.zeros((16,16),dtype=int)\n",
    "for x in range(16):\n",
    "    for y in range(16):\n",
    "        M[x,y] = nim_product(x,y)\n",
    "\n",
    "sp.Matrix(M)\n"
   ]
  },
  {
   "cell_type": "code",
   "execution_count": 17,
   "metadata": {},
   "outputs": [
    {
     "name": "stdout",
     "output_type": "stream",
     "text": [
      "nim_order(1) = 0\n",
      "nim_order(2) = 3\n",
      "nim_order(3) = 3\n",
      "nim_order(4) = 15\n",
      "nim_order(5) = 15\n",
      "nim_order(6) = 15\n",
      "nim_order(7) = 15\n",
      "nim_order(8) = 5\n",
      "nim_order(9) = 15\n",
      "nim_order(10) = 5\n",
      "nim_order(11) = 15\n",
      "nim_order(12) = 15\n",
      "nim_order(13) = 5\n",
      "nim_order(14) = 5\n",
      "nim_order(15) = 15\n",
      "nim_order(16) = 85\n",
      "nim_order(17) = 85\n"
     ]
    },
    {
     "ename": "RecursionError",
     "evalue": "maximum recursion depth exceeded",
     "output_type": "error",
     "traceback": [
      "\u001b[1;31m---------------------------------------------------------------------------\u001b[0m",
      "\u001b[1;31mRecursionError\u001b[0m                            Traceback (most recent call last)",
      "Cell \u001b[1;32mIn[17], line 3\u001b[0m\n\u001b[0;32m      1\u001b[0m M \u001b[38;5;241m=\u001b[39m np\u001b[38;5;241m.\u001b[39mzeros((\u001b[38;5;241m1\u001b[39m,\u001b[38;5;241m255\u001b[39m),dtype\u001b[38;5;241m=\u001b[39m\u001b[38;5;28mint\u001b[39m)\n\u001b[0;32m      2\u001b[0m \u001b[38;5;28;01mfor\u001b[39;00m x \u001b[38;5;129;01min\u001b[39;00m \u001b[38;5;28mrange\u001b[39m(\u001b[38;5;241m1\u001b[39m,\u001b[38;5;241m256\u001b[39m):\n\u001b[1;32m----> 3\u001b[0m     \u001b[38;5;28mprint\u001b[39m(\u001b[38;5;124mf\u001b[39m\u001b[38;5;124m'\u001b[39m\u001b[38;5;124mnim_order(\u001b[39m\u001b[38;5;132;01m{\u001b[39;00mx\u001b[38;5;132;01m}\u001b[39;00m\u001b[38;5;124m) = \u001b[39m\u001b[38;5;132;01m{\u001b[39;00m\u001b[43mnim_order\u001b[49m\u001b[43m(\u001b[49m\u001b[43mx\u001b[49m\u001b[43m)\u001b[49m\u001b[38;5;132;01m}\u001b[39;00m\u001b[38;5;124m'\u001b[39m )\n\u001b[0;32m      5\u001b[0m sp\u001b[38;5;241m.\u001b[39mMatrix(M)\n",
      "Cell \u001b[1;32mIn[12], line 83\u001b[0m, in \u001b[0;36mnim_order\u001b[1;34m(n)\u001b[0m\n\u001b[0;32m     81\u001b[0m \u001b[38;5;28;01melse\u001b[39;00m:\n\u001b[0;32m     82\u001b[0m     order \u001b[38;5;241m=\u001b[39m \u001b[38;5;241m1\u001b[39m\n\u001b[1;32m---> 83\u001b[0m     \u001b[38;5;28;01mwhile\u001b[39;00m \u001b[43mnim_power\u001b[49m\u001b[43m(\u001b[49m\u001b[43mn\u001b[49m\u001b[43m,\u001b[49m\u001b[43morder\u001b[49m\u001b[43m)\u001b[49m \u001b[38;5;241m!=\u001b[39m \u001b[38;5;241m1\u001b[39m:\n\u001b[0;32m     84\u001b[0m         order \u001b[38;5;241m+\u001b[39m\u001b[38;5;241m=\u001b[39m \u001b[38;5;241m1\u001b[39m\n\u001b[0;32m     85\u001b[0m     \u001b[38;5;28;01mreturn\u001b[39;00m order\n",
      "Cell \u001b[1;32mIn[12], line 74\u001b[0m, in \u001b[0;36mnim_power\u001b[1;34m(x, n)\u001b[0m\n\u001b[0;32m     72\u001b[0m     \u001b[38;5;28;01mreturn\u001b[39;00m \u001b[38;5;241m1\u001b[39m\n\u001b[0;32m     73\u001b[0m \u001b[38;5;28;01melse\u001b[39;00m:\n\u001b[1;32m---> 74\u001b[0m     \u001b[38;5;28;01mreturn\u001b[39;00m \u001b[43mnim_prod\u001b[49m\u001b[43m(\u001b[49m\u001b[43mnim_power\u001b[49m\u001b[43m(\u001b[49m\u001b[43mx\u001b[49m\u001b[43m,\u001b[49m\u001b[43mn\u001b[49m\u001b[38;5;241;43m-\u001b[39;49m\u001b[38;5;241;43m1\u001b[39;49m\u001b[43m)\u001b[49m\u001b[43m,\u001b[49m\u001b[43mx\u001b[49m\u001b[43m)\u001b[49m\n",
      "Cell \u001b[1;32mIn[12], line 61\u001b[0m, in \u001b[0;36mnim_prod\u001b[1;34m(x, y)\u001b[0m\n\u001b[0;32m     59\u001b[0m \u001b[38;5;28;01mfor\u001b[39;00m index \u001b[38;5;129;01min\u001b[39;00m \u001b[38;5;28mrange\u001b[39m(M\u001b[38;5;241m.\u001b[39mbit_length()):\n\u001b[0;32m     60\u001b[0m     \u001b[38;5;28;01mif\u001b[39;00m M \u001b[38;5;241m>>\u001b[39m index \u001b[38;5;241m&\u001b[39m \u001b[38;5;241m1\u001b[39m \u001b[38;5;241m==\u001b[39m \u001b[38;5;241m1\u001b[39m:\n\u001b[1;32m---> 61\u001b[0m         \u001b[38;5;28msum\u001b[39m \u001b[38;5;241m^\u001b[39m\u001b[38;5;241m=\u001b[39m \u001b[43mnim_prod\u001b[49m\u001b[43m(\u001b[49m\u001b[43mm\u001b[49m\u001b[43m,\u001b[49m\u001b[43m \u001b[49m\u001b[38;5;241;43m1\u001b[39;49m\u001b[43m \u001b[49m\u001b[38;5;241;43m<<\u001b[39;49m\u001b[43m \u001b[49m\u001b[43mindex\u001b[49m\u001b[43m)\u001b[49m\n\u001b[0;32m     62\u001b[0m \u001b[38;5;28;01mreturn\u001b[39;00m \u001b[38;5;28msum\u001b[39m\n",
      "Cell \u001b[1;32mIn[12], line 55\u001b[0m, in \u001b[0;36mnim_prod\u001b[1;34m(x, y)\u001b[0m\n\u001b[0;32m     53\u001b[0m         intermediate \u001b[38;5;241m=\u001b[39m nim_prod(m, \u001b[38;5;241m1\u001b[39m \u001b[38;5;241m<<\u001b[39m exponent)\n\u001b[0;32m     54\u001b[0m         \u001b[38;5;28;01mreturn\u001b[39;00m nim_prod(intermediate, factored)\n\u001b[1;32m---> 55\u001b[0m     \u001b[38;5;28;01mreturn\u001b[39;00m \u001b[43mnim_prod\u001b[49m\u001b[43m(\u001b[49m\u001b[43mintermediate\u001b[49m\u001b[43m,\u001b[49m\u001b[43m \u001b[49m\u001b[38;5;241;43m1\u001b[39;49m\u001b[43m \u001b[49m\u001b[38;5;241;43m<<\u001b[39;49m\u001b[43m \u001b[49m\u001b[43mexponent\u001b[49m\u001b[43m)\u001b[49m\n\u001b[0;32m     56\u001b[0m \u001b[38;5;28;01melse\u001b[39;00m:\n\u001b[0;32m     57\u001b[0m     \u001b[38;5;66;03m# otherwise, write it as the sum of powers of 2 and distribute\u001b[39;00m\n\u001b[0;32m     58\u001b[0m     \u001b[38;5;28msum\u001b[39m \u001b[38;5;241m=\u001b[39m \u001b[38;5;241m0\u001b[39m\n",
      "Cell \u001b[1;32mIn[12], line 61\u001b[0m, in \u001b[0;36mnim_prod\u001b[1;34m(x, y)\u001b[0m\n\u001b[0;32m     59\u001b[0m \u001b[38;5;28;01mfor\u001b[39;00m index \u001b[38;5;129;01min\u001b[39;00m \u001b[38;5;28mrange\u001b[39m(M\u001b[38;5;241m.\u001b[39mbit_length()):\n\u001b[0;32m     60\u001b[0m     \u001b[38;5;28;01mif\u001b[39;00m M \u001b[38;5;241m>>\u001b[39m index \u001b[38;5;241m&\u001b[39m \u001b[38;5;241m1\u001b[39m \u001b[38;5;241m==\u001b[39m \u001b[38;5;241m1\u001b[39m:\n\u001b[1;32m---> 61\u001b[0m         \u001b[38;5;28msum\u001b[39m \u001b[38;5;241m^\u001b[39m\u001b[38;5;241m=\u001b[39m \u001b[43mnim_prod\u001b[49m\u001b[43m(\u001b[49m\u001b[43mm\u001b[49m\u001b[43m,\u001b[49m\u001b[43m \u001b[49m\u001b[38;5;241;43m1\u001b[39;49m\u001b[43m \u001b[49m\u001b[38;5;241;43m<<\u001b[39;49m\u001b[43m \u001b[49m\u001b[43mindex\u001b[49m\u001b[43m)\u001b[49m\n\u001b[0;32m     62\u001b[0m \u001b[38;5;28;01mreturn\u001b[39;00m \u001b[38;5;28msum\u001b[39m\n",
      "Cell \u001b[1;32mIn[12], line 55\u001b[0m, in \u001b[0;36mnim_prod\u001b[1;34m(x, y)\u001b[0m\n\u001b[0;32m     53\u001b[0m         intermediate \u001b[38;5;241m=\u001b[39m nim_prod(m, \u001b[38;5;241m1\u001b[39m \u001b[38;5;241m<<\u001b[39m exponent)\n\u001b[0;32m     54\u001b[0m         \u001b[38;5;28;01mreturn\u001b[39;00m nim_prod(intermediate, factored)\n\u001b[1;32m---> 55\u001b[0m     \u001b[38;5;28;01mreturn\u001b[39;00m \u001b[43mnim_prod\u001b[49m\u001b[43m(\u001b[49m\u001b[43mintermediate\u001b[49m\u001b[43m,\u001b[49m\u001b[43m \u001b[49m\u001b[38;5;241;43m1\u001b[39;49m\u001b[43m \u001b[49m\u001b[38;5;241;43m<<\u001b[39;49m\u001b[43m \u001b[49m\u001b[43mexponent\u001b[49m\u001b[43m)\u001b[49m\n\u001b[0;32m     56\u001b[0m \u001b[38;5;28;01melse\u001b[39;00m:\n\u001b[0;32m     57\u001b[0m     \u001b[38;5;66;03m# otherwise, write it as the sum of powers of 2 and distribute\u001b[39;00m\n\u001b[0;32m     58\u001b[0m     \u001b[38;5;28msum\u001b[39m \u001b[38;5;241m=\u001b[39m \u001b[38;5;241m0\u001b[39m\n",
      "Cell \u001b[1;32mIn[12], line 55\u001b[0m, in \u001b[0;36mnim_prod\u001b[1;34m(x, y)\u001b[0m\n\u001b[0;32m     53\u001b[0m         intermediate \u001b[38;5;241m=\u001b[39m nim_prod(m, \u001b[38;5;241m1\u001b[39m \u001b[38;5;241m<<\u001b[39m exponent)\n\u001b[0;32m     54\u001b[0m         \u001b[38;5;28;01mreturn\u001b[39;00m nim_prod(intermediate, factored)\n\u001b[1;32m---> 55\u001b[0m     \u001b[38;5;28;01mreturn\u001b[39;00m \u001b[43mnim_prod\u001b[49m\u001b[43m(\u001b[49m\u001b[43mintermediate\u001b[49m\u001b[43m,\u001b[49m\u001b[43m \u001b[49m\u001b[38;5;241;43m1\u001b[39;49m\u001b[43m \u001b[49m\u001b[38;5;241;43m<<\u001b[39;49m\u001b[43m \u001b[49m\u001b[43mexponent\u001b[49m\u001b[43m)\u001b[49m\n\u001b[0;32m     56\u001b[0m \u001b[38;5;28;01melse\u001b[39;00m:\n\u001b[0;32m     57\u001b[0m     \u001b[38;5;66;03m# otherwise, write it as the sum of powers of 2 and distribute\u001b[39;00m\n\u001b[0;32m     58\u001b[0m     \u001b[38;5;28msum\u001b[39m \u001b[38;5;241m=\u001b[39m \u001b[38;5;241m0\u001b[39m\n",
      "    \u001b[1;31m[... skipping similar frames: nim_prod at line 55 (2967 times)]\u001b[0m\n",
      "Cell \u001b[1;32mIn[12], line 55\u001b[0m, in \u001b[0;36mnim_prod\u001b[1;34m(x, y)\u001b[0m\n\u001b[0;32m     53\u001b[0m         intermediate \u001b[38;5;241m=\u001b[39m nim_prod(m, \u001b[38;5;241m1\u001b[39m \u001b[38;5;241m<<\u001b[39m exponent)\n\u001b[0;32m     54\u001b[0m         \u001b[38;5;28;01mreturn\u001b[39;00m nim_prod(intermediate, factored)\n\u001b[1;32m---> 55\u001b[0m     \u001b[38;5;28;01mreturn\u001b[39;00m \u001b[43mnim_prod\u001b[49m\u001b[43m(\u001b[49m\u001b[43mintermediate\u001b[49m\u001b[43m,\u001b[49m\u001b[43m \u001b[49m\u001b[38;5;241;43m1\u001b[39;49m\u001b[43m \u001b[49m\u001b[38;5;241;43m<<\u001b[39;49m\u001b[43m \u001b[49m\u001b[43mexponent\u001b[49m\u001b[43m)\u001b[49m\n\u001b[0;32m     56\u001b[0m \u001b[38;5;28;01melse\u001b[39;00m:\n\u001b[0;32m     57\u001b[0m     \u001b[38;5;66;03m# otherwise, write it as the sum of powers of 2 and distribute\u001b[39;00m\n\u001b[0;32m     58\u001b[0m     \u001b[38;5;28msum\u001b[39m \u001b[38;5;241m=\u001b[39m \u001b[38;5;241m0\u001b[39m\n",
      "Cell \u001b[1;32mIn[12], line 51\u001b[0m, in \u001b[0;36mnim_prod\u001b[1;34m(x, y)\u001b[0m\n\u001b[0;32m     47\u001b[0m     exponent \u001b[38;5;241m+\u001b[39m\u001b[38;5;241m=\u001b[39m \u001b[38;5;241m1\u001b[39m\n\u001b[0;32m     48\u001b[0m \u001b[38;5;66;03m# now use formula for fermat power and associativity\u001b[39;00m\n\u001b[0;32m     49\u001b[0m \u001b[38;5;66;03m# m* M = (m * factored) * (2 ** exponent) = (m * (2 ** exponent)) * factored\u001b[39;00m\n\u001b[0;32m     50\u001b[0m \u001b[38;5;66;03m# we have to re-order the parentheses carefully to avoid infinite loop\u001b[39;00m\n\u001b[1;32m---> 51\u001b[0m intermediate \u001b[38;5;241m=\u001b[39m \u001b[43mnim_prod\u001b[49m\u001b[43m(\u001b[49m\u001b[43mm\u001b[49m\u001b[43m,\u001b[49m\u001b[43m \u001b[49m\u001b[43mfactored\u001b[49m\u001b[43m)\u001b[49m\n\u001b[0;32m     52\u001b[0m \u001b[38;5;28;01mif\u001b[39;00m intermediate \u001b[38;5;241m==\u001b[39m M:\n\u001b[0;32m     53\u001b[0m     intermediate \u001b[38;5;241m=\u001b[39m nim_prod(m, \u001b[38;5;241m1\u001b[39m \u001b[38;5;241m<<\u001b[39m exponent)\n",
      "Cell \u001b[1;32mIn[12], line 32\u001b[0m, in \u001b[0;36mnim_prod\u001b[1;34m(x, y)\u001b[0m\n\u001b[0;32m     29\u001b[0m m \u001b[38;5;241m=\u001b[39m \u001b[38;5;28mmin\u001b[39m(x,y)\n\u001b[0;32m     30\u001b[0m M \u001b[38;5;241m=\u001b[39m \u001b[38;5;28mmax\u001b[39m(x,y)\n\u001b[1;32m---> 32\u001b[0m \u001b[38;5;28;01mif\u001b[39;00m \u001b[43mis_fermat_power\u001b[49m\u001b[43m(\u001b[49m\u001b[43mM\u001b[49m\u001b[43m)\u001b[49m:\n\u001b[0;32m     33\u001b[0m     \u001b[38;5;66;03m# nim product of Fermat power with smaller is ordinary product\u001b[39;00m\n\u001b[0;32m     34\u001b[0m     \u001b[38;5;28;01mif\u001b[39;00m m \u001b[38;5;241m<\u001b[39m M:\n\u001b[0;32m     35\u001b[0m         \u001b[38;5;28;01mreturn\u001b[39;00m m\u001b[38;5;241m*\u001b[39mM\n",
      "\u001b[1;31mRecursionError\u001b[0m: maximum recursion depth exceeded"
     ]
    }
   ],
   "source": [
    "M = np.zeros((1,255),dtype=int)\n",
    "for x in range(1,256):\n",
    "    print(f'nim_({x}) = {nim_order(x)}' )\n",
    "\n",
    "sp.Matrix(M)"
   ]
  },
  {
   "cell_type": "code",
   "execution_count": 21,
   "metadata": {},
   "outputs": [
    {
     "data": {
      "text/plain": [
       "'0b10000101'"
      ]
     },
     "execution_count": 21,
     "metadata": {},
     "output_type": "execute_result"
    }
   ],
   "source": [
    "bin(133)"
   ]
  },
  {
   "cell_type": "code",
   "execution_count": null,
   "metadata": {},
   "outputs": [],
   "source": []
  }
 ],
 "metadata": {
  "kernelspec": {
   "display_name": "Python 3",
   "language": "python",
   "name": "python3"
  },
  "language_info": {
   "codemirror_mode": {
    "name": "ipython",
    "version": 3
   },
   "file_extension": ".py",
   "mimetype": "text/x-python",
   "name": "python",
   "nbconvert_exporter": "python",
   "pygments_lexer": "ipython3",
   "version": "3.12.5"
  }
 },
 "nbformat": 4,
 "nbformat_minor": 2
}
