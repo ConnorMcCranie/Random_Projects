{
 "cells": [
  {
   "cell_type": "code",
   "execution_count": 3,
   "metadata": {},
   "outputs": [],
   "source": []
  },
  {
   "cell_type": "code",
   "execution_count": 50,
   "metadata": {},
   "outputs": [],
   "source": [
    "\n",
    "def is_power_of_two(n : int) -> bool:\n",
    "    if n == 0:\n",
    "        return False\n",
    "    return (n & (n - 1)) == 0\n",
    "\n",
    "def is_fermat_power(n : int) -> bool:\n",
    "    if n < 4_000_000_000:\n",
    "        return (n == 2) | (n == 4) | (n == 16) | (n == 256) | (n == 65536)\n",
    "    elif not is_power_of_two(n):\n",
    "        return False\n",
    "    else:\n",
    "        return is_power_of_two(n.bit_length() - 1)\n",
    "\n",
    "def nim_sum(n : int,m : int) -> int:\n",
    "    return n ^ m\n",
    "\n",
    "def least_fermat(N : int) -> int:\n",
    "    '''\n",
    "    Find the least Fermat power <= N \n",
    "    2 ** (2 ** n) <= N\n",
    "    '''\n",
    "    if N < 2:\n",
    "        raise ValueError('The lowest Fermat power is 2')\n",
    "    bit_log = N.bit_length() - 1\n",
    "    bit_log_log = bit_log.bit_length()-1\n",
    "    return 1 << (1 << bit_log_log)\n",
    "\n",
    "def nim_product(a : int, b : int) -> int:\n",
    "    # first handle trivial cases\n",
    "    if a == 0 or b == 0:\n",
    "        return 0\n",
    "    elif a == 1:\n",
    "        return b\n",
    "    elif b == 1:\n",
    "        return a\n",
    "    elif a == 2 and b == 2:\n",
    "        return 3\n",
    "    else:\n",
    "        # do euclidean division by greatest possible fermat power \n",
    "        # a = q_a * F_a + r_a and b = q_b * F_b + r_b\n",
    "        F_a = least_fermat(a); F_b = least_fermat(b)\n",
    "        q_a = a // F_a ; q_b = b // F_b\n",
    "        r_a = a % F_a ; r_b = b % F_b\n",
    "\n",
    "        # if one the Fermat powers is greater than the other, then\n",
    "        # nim multiplication by it is the same as ordinary multiplication\n",
    "        if F_a < F_b:\n",
    "            return nim_product(a,q_b)*F_b ^ nim_product(a,r_b)\n",
    "        elif F_a > F_b:\n",
    "            return nim_product(q_a,b)*F_a ^ nim_product(r_a,b)\n",
    "        else:\n",
    "            # otherwise we have to distribute and use F_n ** 2 = 3 * F_n / 2\n",
    "            p_1 = nim_product(q_a,q_b)\n",
    "            p_2 = nim_product(r_a,r_b)\n",
    "            p_3 = nim_product(q_a ^ r_a, q_b ^ r_b)\n",
    "            p_4 = nim_product(p_1, F_a >> 1)\n",
    "            p_5 = p_3 ^ p_2\n",
    "            return p_5 * F_a ^ p_2 ^ p_4\n",
    "\n",
    "def nim_power(x : int,n : int) -> int:\n",
    "    if n == 0:\n",
    "        return 1\n",
    "    elif n == 1:\n",
    "        return x\n",
    "    elif x == 0:\n",
    "        return 0\n",
    "    elif x == 1:\n",
    "        return 1\n",
    "    else:\n",
    "        i = 1\n",
    "        prod = x\n",
    "        while i < n:\n",
    "            prod = nim_product(prod,x)\n",
    "            i += 1\n",
    "        return prod\n",
    "\n",
    "\n",
    "def nim_order(n : int) -> int:\n",
    "    if n == 0:\n",
    "        return 0\n",
    "    elif n == 1:\n",
    "        return 1\n",
    "    else:\n",
    "        # make more efficient by only checking possible orders!!\n",
    "        # use Lagrange's theorem\n",
    "        order = 1\n",
    "        while nim_power(n,order) != 1:\n",
    "            order += 1\n",
    "            #bugtesting\n",
    "            #print(f'{n}^{order}={nim_power(n,order)}')\n",
    "        return order\n",
    "\n"
   ]
  },
  {
   "cell_type": "code",
   "execution_count": 54,
   "metadata": {},
   "outputs": [
    {
     "name": "stdout",
     "output_type": "stream",
     "text": [
      "[1, 3, 3, 15, 15, 15, 15, 5, 15, 5, 15, 15, 5, 5, 15, 85, 85, 255, 255, 85, 85, 255, 255, 85, 85, 255, 255, 255, 255, 85, 85, 255, 255, 255, 255, 85, 255, 85, 255, 255, 255, 255, 255, 255, 85, 255, 85, 255, 85, 85, 255, 255, 255, 255, 255, 255, 255, 255, 255, 255, 85, 85, 255, 255, 51, 255, 255, 255, 51, 255, 255, 17, 255, 85, 255, 17, 255, 85, 255, 255, 255, 255, 51, 255, 255, 51, 255, 17, 255, 85, 255, 255, 17, 255, 85, 51, 255, 255, 255]\n"
     ]
    }
   ],
   "source": [
    "print([nim_order(i) for i in range(1,100)])"
   ]
  },
  {
   "cell_type": "code",
   "execution_count": 16,
   "metadata": {},
   "outputs": [
    {
     "data": {
      "text/plain": [
       "6"
      ]
     },
     "execution_count": 16,
     "metadata": {},
     "output_type": "execute_result"
    }
   ],
   "source": []
  },
  {
   "cell_type": "code",
   "execution_count": null,
   "metadata": {},
   "outputs": [],
   "source": [
    "import numpy as np\n",
    "import sympy as sp\n",
    "\n",
    "M = np.zeros((2,256),dtype=int)\n",
    "\n",
    "for y in range(256):\n",
    "    M[0,y] , M[1,y]= y , nim_order(y)\n",
    "    print ((y , nim_order(y)))\n",
    "\n"
   ]
  },
  {
   "cell_type": "code",
   "execution_count": 49,
   "metadata": {},
   "outputs": [
    {
     "data": {
      "text/plain": [
       "51"
      ]
     },
     "execution_count": 49,
     "metadata": {},
     "output_type": "execute_result"
    }
   ],
   "source": [
    "nim_power(65535,257)"
   ]
  },
  {
   "cell_type": "code",
   "execution_count": 21,
   "metadata": {},
   "outputs": [
    {
     "data": {
      "text/plain": [
       "'0b10000101'"
      ]
     },
     "execution_count": 21,
     "metadata": {},
     "output_type": "execute_result"
    }
   ],
   "source": [
    "bin(133)"
   ]
  },
  {
   "cell_type": "code",
   "execution_count": null,
   "metadata": {},
   "outputs": [],
   "source": []
  }
 ],
 "metadata": {
  "kernelspec": {
   "display_name": "Python 3",
   "language": "python",
   "name": "python3"
  },
  "language_info": {
   "codemirror_mode": {
    "name": "ipython",
    "version": 3
   },
   "file_extension": ".py",
   "mimetype": "text/x-python",
   "name": "python",
   "nbconvert_exporter": "python",
   "pygments_lexer": "ipython3",
   "version": "3.12.5"
  }
 },
 "nbformat": 4,
 "nbformat_minor": 2
}
