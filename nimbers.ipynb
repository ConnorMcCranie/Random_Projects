{
 "cells": [
  {
   "cell_type": "code",
   "execution_count": 4,
   "metadata": {},
   "outputs": [],
   "source": [
    "\n",
    "def is_power_of_two(n : int) -> bool:\n",
    "    if n == 0:\n",
    "        return False\n",
    "    return (n & (n - 1)) == 0\n",
    "\n",
    "def is_fermat_power(n : int) -> bool:\n",
    "    if n < 4_000_000_000:\n",
    "        return (n == 2) | (n == 4) | (n == 16) | (n == 256) | (n == 65536)\n",
    "    elif not is_power_of_two(n):\n",
    "        return False\n",
    "    else:\n",
    "        return is_power_of_two(n.bit_length() - 1)\n",
    "\n"
   ]
  },
  {
   "cell_type": "code",
   "execution_count": 16,
   "metadata": {},
   "outputs": [
    {
     "data": {
      "text/plain": [
       "12"
      ]
     },
     "execution_count": 16,
     "metadata": {},
     "output_type": "execute_result"
    }
   ],
   "source": [
    "def nim_sum(n : int,m : int) -> int:\n",
    "    return n ^ m\n",
    "\n",
    "def nim_prod(x : int,y : int) -> int:\n",
    "    # first handle trivial cases\n",
    "    if x == 0 | y == 0:\n",
    "        return 0\n",
    "    elif x == 1:\n",
    "        return y\n",
    "    elif y == 1:\n",
    "        return x\n",
    "    \n",
    "    # next, use the rule for multiplying Fermat powers F=2 ** (2 ** n)\n",
    "    # if x < F, then nim_prod(x,F)= x*F   (ordinary product)\n",
    "    # and nim_prod(F,F) = 3*F/2\n",
    "    m = min(x,y)\n",
    "    M = max(x,y)\n",
    "    \n",
    "    if is_fermat_power(M):\n",
    "        # nim product of Fermat power with smaller is ordinary product\n",
    "        if m < M:\n",
    "            return m*M\n",
    "        else:\n",
    "            # nim square of fermat power x is 3x/2\n",
    "            return 3*M >> 1\n",
    "    elif is_power_of_two(M):\n",
    "        # if exponent is not power of 2, factor out 2's until it is\n",
    "        # M = (factored) * (2 ** exponent)\n",
    "        # we know at least one 2 needs to be pulled out        \n",
    "        exponent = 1\n",
    "        factored = M >> 1\n",
    "        while not is_fermat_power(factored):\n",
    "            factored >>= 1\n",
    "            exponent += 1\n",
    "        # now use formula for fermat power and associativity\n",
    "        # m* M = (m * factored) * (2 ** exponent) = (m * (2 ** exponent)) * factored\n",
    "        # we have to re-order the parentheses carefully to avoid infinite loop\n",
    "        intermediate = nim_prod(m, factored)\n",
    "        if intermediate == M:\n",
    "            intermediate = nim_prod(m, 1 << exponent)\n",
    "            return nim_prod(intermediate, factored)\n",
    "        return nim_prod(intermediate, 1 << exponent)\n",
    "    else:\n",
    "        # otherwise, write it as the sum of powers of 2 and distribute\n",
    "        sum = 0\n",
    "        for index in range(M.bit_length()):\n",
    "            if M >> index & 1 == 1:\n",
    "                sum ^= nim_prod(m, 1 << index)\n",
    "        return sum \n",
    "    \n",
    "nim_prod(2,8)"
   ]
  },
  {
   "cell_type": "code",
   "execution_count": 17,
   "metadata": {},
   "outputs": [
    {
     "data": {
      "text/latex": [
       "$\\displaystyle \\left[\\begin{array}{cccccccccccccccc}0 & 0 & 0 & 0 & 0 & 0 & 0 & 0 & 0 & 0 & 0 & 0 & 0 & 0 & 0 & 0\\\\0 & 1 & 2 & 3 & 4 & 5 & 6 & 7 & 8 & 9 & 10 & 11 & 12 & 13 & 14 & 15\\\\0 & 2 & 3 & 1 & 8 & 10 & 11 & 9 & 12 & 14 & 15 & 13 & 4 & 6 & 7 & 5\\\\0 & 3 & 1 & 2 & 12 & 15 & 13 & 14 & 4 & 7 & 5 & 6 & 8 & 11 & 9 & 10\\\\0 & 4 & 8 & 12 & 6 & 2 & 14 & 10 & 11 & 15 & 3 & 7 & 13 & 9 & 5 & 1\\\\0 & 5 & 10 & 15 & 2 & 7 & 8 & 13 & 3 & 6 & 9 & 12 & 1 & 4 & 11 & 14\\\\0 & 6 & 11 & 13 & 14 & 8 & 5 & 3 & 7 & 1 & 12 & 10 & 9 & 15 & 2 & 4\\\\0 & 7 & 9 & 14 & 10 & 13 & 3 & 4 & 15 & 8 & 6 & 1 & 5 & 2 & 12 & 11\\\\0 & 8 & 12 & 4 & 11 & 3 & 7 & 15 & 13 & 5 & 1 & 9 & 6 & 14 & 10 & 2\\\\0 & 9 & 14 & 7 & 15 & 6 & 1 & 8 & 5 & 12 & 11 & 2 & 10 & 3 & 4 & 13\\\\0 & 10 & 15 & 5 & 3 & 9 & 12 & 6 & 1 & 11 & 14 & 4 & 2 & 8 & 13 & 7\\\\0 & 11 & 13 & 6 & 7 & 12 & 10 & 1 & 9 & 2 & 4 & 15 & 14 & 5 & 3 & 8\\\\0 & 12 & 4 & 8 & 13 & 1 & 9 & 5 & 6 & 10 & 2 & 14 & 11 & 7 & 15 & 3\\\\0 & 13 & 6 & 11 & 9 & 4 & 15 & 2 & 14 & 3 & 8 & 5 & 7 & 10 & 1 & 12\\\\0 & 14 & 7 & 9 & 5 & 11 & 2 & 12 & 10 & 4 & 13 & 3 & 15 & 1 & 8 & 6\\\\0 & 15 & 5 & 10 & 1 & 14 & 4 & 11 & 2 & 13 & 7 & 8 & 3 & 12 & 6 & 9\\end{array}\\right]$"
      ],
      "text/plain": [
       "Matrix([\n",
       "[0,  0,  0,  0,  0,  0,  0,  0,  0,  0,  0,  0,  0,  0,  0,  0],\n",
       "[0,  1,  2,  3,  4,  5,  6,  7,  8,  9, 10, 11, 12, 13, 14, 15],\n",
       "[0,  2,  3,  1,  8, 10, 11,  9, 12, 14, 15, 13,  4,  6,  7,  5],\n",
       "[0,  3,  1,  2, 12, 15, 13, 14,  4,  7,  5,  6,  8, 11,  9, 10],\n",
       "[0,  4,  8, 12,  6,  2, 14, 10, 11, 15,  3,  7, 13,  9,  5,  1],\n",
       "[0,  5, 10, 15,  2,  7,  8, 13,  3,  6,  9, 12,  1,  4, 11, 14],\n",
       "[0,  6, 11, 13, 14,  8,  5,  3,  7,  1, 12, 10,  9, 15,  2,  4],\n",
       "[0,  7,  9, 14, 10, 13,  3,  4, 15,  8,  6,  1,  5,  2, 12, 11],\n",
       "[0,  8, 12,  4, 11,  3,  7, 15, 13,  5,  1,  9,  6, 14, 10,  2],\n",
       "[0,  9, 14,  7, 15,  6,  1,  8,  5, 12, 11,  2, 10,  3,  4, 13],\n",
       "[0, 10, 15,  5,  3,  9, 12,  6,  1, 11, 14,  4,  2,  8, 13,  7],\n",
       "[0, 11, 13,  6,  7, 12, 10,  1,  9,  2,  4, 15, 14,  5,  3,  8],\n",
       "[0, 12,  4,  8, 13,  1,  9,  5,  6, 10,  2, 14, 11,  7, 15,  3],\n",
       "[0, 13,  6, 11,  9,  4, 15,  2, 14,  3,  8,  5,  7, 10,  1, 12],\n",
       "[0, 14,  7,  9,  5, 11,  2, 12, 10,  4, 13,  3, 15,  1,  8,  6],\n",
       "[0, 15,  5, 10,  1, 14,  4, 11,  2, 13,  7,  8,  3, 12,  6,  9]])"
      ]
     },
     "execution_count": 17,
     "metadata": {},
     "output_type": "execute_result"
    }
   ],
   "source": [
    "import numpy as np\n",
    "import sympy as sp\n",
    "\n",
    "M = np.zeros((16,16),dtype=int)\n",
    "for x in range(16):\n",
    "    for y in range(16):\n",
    "        M[x,y] = nim_prod(x,y)\n",
    "\n",
    "sp.Matrix(M)"
   ]
  },
  {
   "cell_type": "code",
   "execution_count": 22,
   "metadata": {},
   "outputs": [
    {
     "name": "stdout",
     "output_type": "stream",
     "text": [
      "The 0th bit of 999 is 1\n",
      "The 1th bit of 999 is 1\n",
      "The 2th bit of 999 is 1\n",
      "The 3th bit of 999 is 0\n",
      "The 4th bit of 999 is 0\n",
      "The 5th bit of 999 is 1\n",
      "The 6th bit of 999 is 1\n",
      "The 7th bit of 999 is 1\n",
      "The 8th bit of 999 is 1\n",
      "The 9th bit of 999 is 1\n",
      "bin(999) ='0b1111100111'\n"
     ]
    }
   ],
   "source": [
    "def test_func(N : int) -> None:\n",
    "    for n in range(N.bit_length()):\n",
    "        print(f'The {n}th bit of {N} is {N >> n & 1}')\n",
    "\n",
    "test_func(999)\n",
    "print(f'{bin(999) =}')"
   ]
  },
  {
   "cell_type": "code",
   "execution_count": null,
   "metadata": {},
   "outputs": [],
   "source": []
  }
 ],
 "metadata": {
  "kernelspec": {
   "display_name": "Python 3",
   "language": "python",
   "name": "python3"
  },
  "language_info": {
   "codemirror_mode": {
    "name": "ipython",
    "version": 3
   },
   "file_extension": ".py",
   "mimetype": "text/x-python",
   "name": "python",
   "nbconvert_exporter": "python",
   "pygments_lexer": "ipython3",
   "version": "3.12.5"
  }
 },
 "nbformat": 4,
 "nbformat_minor": 2
}
